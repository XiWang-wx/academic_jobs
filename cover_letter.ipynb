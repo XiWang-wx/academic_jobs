{
  "nbformat": 4,
  "nbformat_minor": 0,
  "metadata": {
    "colab": {
      "name": "cover_letter.ipynb",
      "provenance": [],
      "collapsed_sections": []
    },
    "kernelspec": {
      "name": "python3",
      "display_name": "Python 3"
    },
    "language_info": {
      "name": "python"
    }
  },
  "cells": [
    {
      "cell_type": "code",
      "metadata": {
        "colab": {
          "base_uri": "https://localhost:8080/"
        },
        "id": "QSA9A840mP_K",
        "outputId": "466e9a9a-1ba7-43ee-f2bf-72ee3d5b9179"
      },
      "source": [
        "pip install docx"
      ],
      "execution_count": 3,
      "outputs": [
        {
          "output_type": "stream",
          "text": [
            "Collecting docx\n",
            "  Downloading docx-0.2.4.tar.gz (54 kB)\n",
            "\u001b[?25l\r\u001b[K     |██████                          | 10 kB 21.4 MB/s eta 0:00:01\r\u001b[K     |████████████                    | 20 kB 28.0 MB/s eta 0:00:01\r\u001b[K     |██████████████████              | 30 kB 27.4 MB/s eta 0:00:01\r\u001b[K     |███████████████████████▉        | 40 kB 18.7 MB/s eta 0:00:01\r\u001b[K     |█████████████████████████████▉  | 51 kB 8.8 MB/s eta 0:00:01\r\u001b[K     |████████████████████████████████| 54 kB 2.2 MB/s \n",
            "\u001b[?25hRequirement already satisfied: lxml in /usr/local/lib/python3.7/dist-packages (from docx) (4.2.6)\n",
            "Requirement already satisfied: Pillow>=2.0 in /usr/local/lib/python3.7/dist-packages (from docx) (7.1.2)\n",
            "Building wheels for collected packages: docx\n",
            "  Building wheel for docx (setup.py) ... \u001b[?25l\u001b[?25hdone\n",
            "  Created wheel for docx: filename=docx-0.2.4-py3-none-any.whl size=53923 sha256=2b21e6bf9a86a919c1f14e7bb4940884424ab011feccd7c44dce44665e9568f7\n",
            "  Stored in directory: /root/.cache/pip/wheels/dc/ac/45/846e21706415c92fc6e0964e343be1eb31cfc63e149dee5fbe\n",
            "Successfully built docx\n",
            "Installing collected packages: docx\n",
            "Successfully installed docx-0.2.4\n"
          ],
          "name": "stdout"
        }
      ]
    },
    {
      "cell_type": "code",
      "metadata": {
        "colab": {
          "base_uri": "https://localhost:8080/"
        },
        "id": "G6gn6cyPmKMh",
        "outputId": "be0ac341-64d9-45a1-9472-5d6f02a7a073"
      },
      "source": [
        "pip install docxtpl"
      ],
      "execution_count": 5,
      "outputs": [
        {
          "output_type": "stream",
          "text": [
            "Collecting docxtpl\n",
            "  Downloading docxtpl-0.11.5-py2.py3-none-any.whl (22 kB)\n",
            "Requirement already satisfied: jinja2 in /usr/local/lib/python3.7/dist-packages (from docxtpl) (2.11.3)\n",
            "Requirement already satisfied: six in /usr/local/lib/python3.7/dist-packages (from docxtpl) (1.15.0)\n",
            "Collecting python-docx\n",
            "  Downloading python-docx-0.8.11.tar.gz (5.6 MB)\n",
            "\u001b[K     |████████████████████████████████| 5.6 MB 9.8 MB/s \n",
            "\u001b[?25hRequirement already satisfied: lxml in /usr/local/lib/python3.7/dist-packages (from docxtpl) (4.2.6)\n",
            "Requirement already satisfied: MarkupSafe>=0.23 in /usr/local/lib/python3.7/dist-packages (from jinja2->docxtpl) (2.0.1)\n",
            "Building wheels for collected packages: python-docx\n",
            "  Building wheel for python-docx (setup.py) ... \u001b[?25l\u001b[?25hdone\n",
            "  Created wheel for python-docx: filename=python_docx-0.8.11-py3-none-any.whl size=184507 sha256=a891e735630c847468699a5a04e7867eb32cb7f5cd4e115612268156e86c19ed\n",
            "  Stored in directory: /root/.cache/pip/wheels/f6/6f/b9/d798122a8b55b74ad30b5f52b01482169b445fbb84a11797a6\n",
            "Successfully built python-docx\n",
            "Installing collected packages: python-docx, docxtpl\n",
            "Successfully installed docxtpl-0.11.5 python-docx-0.8.11\n"
          ],
          "name": "stdout"
        }
      ]
    },
    {
      "cell_type": "code",
      "metadata": {
        "id": "uNrurqg5lyMk"
      },
      "source": [
        "from docx.shared import Cm\n",
        "from docxtpl import DocxTemplate, InlineImage\n",
        "from docx.shared import Cm, Inches, Mm, Emu\n",
        "import datetime\n",
        "import pandas as pd"
      ],
      "execution_count": 13,
      "outputs": []
    },
    {
      "cell_type": "code",
      "metadata": {
        "id": "KvyyRi2Qr3br"
      },
      "source": [
        "#import spreadsheet\n",
        "df = pd.read_csv('/content/drive/MyDrive/job_search/serach_result_2021-08-11.csv')"
      ],
      "execution_count": 8,
      "outputs": []
    },
    {
      "cell_type": "code",
      "metadata": {
        "id": "eKppULzLmjRK"
      },
      "source": [
        "#import template\n",
        "template = DocxTemplate('/content/drive/MyDrive/job_search/cover_letter/cover_letter.docx')"
      ],
      "execution_count": 33,
      "outputs": []
    },
    {
      "cell_type": "code",
      "metadata": {
        "id": "cU_wZLVOs2Z9"
      },
      "source": [
        "from datetime import date\n",
        "today = date.today()\n",
        "today.strftime(\"%B %d %Y\")\n",
        "\n",
        "position = df['Position'][0]\n",
        "university = df['Institution'][0]"
      ],
      "execution_count": 30,
      "outputs": []
    },
    {
      "cell_type": "code",
      "metadata": {
        "id": "ih6ZpuVOoKtv"
      },
      "source": [
        "#create context\n",
        "context = {\n",
        "'date':today,\n",
        "'department': 'd',\n",
        "'university':university,\n",
        "'address': 'd',\n",
        "'city': 'd',\n",
        "'position':position\n",
        "}\n",
        "\n",
        "#render context\n",
        "template.render(context)\n",
        "template.save('generated_report.docx')"
      ],
      "execution_count": 34,
      "outputs": []
    }
  ]
}