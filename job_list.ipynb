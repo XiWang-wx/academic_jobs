{
  "nbformat": 4,
  "nbformat_minor": 0,
  "metadata": {
    "colab": {
      "name": "job_list.ipynb",
      "provenance": []
    },
    "kernelspec": {
      "name": "python3",
      "display_name": "Python 3"
    },
    "language_info": {
      "name": "python"
    }
  },
  "cells": [
    {
      "cell_type": "code",
      "metadata": {
        "id": "LbIDO0tjIgHo"
      },
      "source": [
        "import requests\n",
        "import bs4\n",
        "from bs4 import BeautifulSoup\n",
        "import pandas as pd\n",
        "import time\n",
        "from IPython.core.display import Pretty\n",
        "from datetime import datetime"
      ],
      "execution_count": 2,
      "outputs": []
    },
    {
      "cell_type": "markdown",
      "metadata": {
        "id": "wN4f_k3DX7de"
      },
      "source": [
        "### 1. H-Net Job Guide "
      ]
    },
    {
      "cell_type": "markdown",
      "metadata": {
        "id": "ijFdqLA0zDnY"
      },
      "source": [
        " H-Net Job Guide URL Search Code\n",
        "\n",
        "```\n",
        "category_id = {1: African American History / Studies, 2: African History / Studies, 3: American History / Studies, 4: Ancient History, 5: Anthropology, 108: Arabic History / Studies, 6: Archaeology, 7: Architecture and Architectural History, 8: Archival Science, 9: Area Studies, 10: Art / Art History, 11: Asian American History / Studies, 12: Asian History / Studies, 13: Atlantic History / Studies, 14: Australian and New Zealand History / Studies, 15: Black History / Studies, 109: Borderlands, 16: British History / Studies, 17: Business History / Economic History / Studies, 18: Canadian History / Studies, 20: Chicana/o History / Studies, 19: Childhood and Education, 104: Chinese History / Studies, 21: Classical Studies, 22: Colonial and Post-Colonial History / Studies, 23: Communication, 113: Comparative Literature, 24: Composition, 25: Contemporary History, 118: Criminology, 26: Cultural History / Studies, 27: Dance and History of Dance, 28: Demographic History / Studies, 29: Digital Humanities, 30: Diplomacy and International Relations, 31: Early Modern History and Period Studies, 32: East Asian History / Studies, 106: Eastern Europe History / Studies, 34: Educational Technology, 35: Environmental History / Studies, 36: Ethnic History / Studies, 37: European History / Studies, 38: Film and Film History, 39: Fine Arts, 40: French History / Studies, 41: Geography, 42: German History / Studies, 43: Government and Public Service, 44: Health and Health Care, 45: Historic Preservation, 46: History Education, 47: History of Science, Medicine, and Technology, 48: Holocaust, Genocide, and Memory Studies, 49: Human Rights, 50: Humanities, 51: Immigration History / Studies, 116: Indigenous Studies, 52: Intellectual History, 53: Islamic History / Studies, 54: Italian History / Studies, 55: Japanese History / Studies, 56: Jewish History / Studies, 57: Journalism / Media Studies, 105: Korean History / Studies, 58: Labor History / Studies, 59: Languages, 61: Latin American and Caribbean History / Studies, 60: Law and Legal History, 62: Library and Information Science, 63: Linguistics, 64: Literature, 65: Local History, 67: Maritime History / Studies, 68: Medieval and Byzantine History / Studies, 69: Mexican History / Studies, 70: Middle East History / Studies, 71: Military History, 110: Modern European History / Studies, 72: Music and Music History, 73: Nationalism History / Studies, 74: Native American History / Studies, 75: Oral History, 76: Philosophy, 77: Political History / Studies, 78: Political Science, 80: Psychology, 81: Public Health, 82: Public History, 83: Public Policy, 117: Race / Ethnic Studies, 84: Religious Studies and Theology, 85: Research and Methodology, 86: Rhetoric, 87: Rural History / Studies, 107: Russian or Soviet History / Studies, 90: Social History / Studies, 91: Social Sciences, 102: Social Work, 92: Sociology, 93: South Asian History / Studies, 111: Southeast Asian History / Studies, 94: Spanish and Portuguese History / Studies, 100: Sport History / Studies, 95: Theatre and Performance History / Studies, 96: Urban Design and Planning, 97: Urban History / Studies, 101: Visual Studies, 98: Women, Gender, and Sexuality, 99: World History / Studies}\n",
        "```\n",
        "\n",
        "\n"
      ]
    },
    {
      "cell_type": "code",
      "metadata": {
        "id": "2GyAk0K5YFRr",
        "colab": {
          "base_uri": "https://localhost:8080/",
          "height": 328
        },
        "outputId": "a5ed4d16-f5b3-42ae-b9bd-71d389e6a37b"
      },
      "source": [
        "#SELECT YOUR CATEGORY NUMBER IN \"my_cat_list=\"\n",
        "my_cat_list = ['10','11','12','104','29','32','38']\n",
        "\n",
        "\"\"\"10: Art / Art History\n",
        "11: Asian American History / Studies \n",
        "12: Asian History / Studies\n",
        "104: Chinese History / Studies\n",
        "113: Comparative Literature\n",
        "29: Digital Humanities\n",
        "32: East Asian History / Studies\n",
        "38: Film and Film History\n",
        "50: Humanities\n",
        "64: Literature\n",
        "\"\"\"\n",
        "\n",
        "institution = []\n",
        "position = []\n",
        "link = []\n",
        "deadline = []\n",
        "discipline = []\n",
        "\n",
        "for i in my_cat_list:\n",
        "  hnet_URL = f\"https://www.h-net.org/jobs/job_browse.php?category_id={i}\"\n",
        "  hnet_page = requests.get(hnet_URL)\n",
        "  hnet_soup = BeautifulSoup(hnet_page.text, \"html.parser\")\n",
        "\n",
        "#CHANGE THE JOB RELASE MONTH In 'string='\n",
        "  if hnet_soup.find(name='p', string='July 2021'):\n",
        "    month_post = hnet_soup.find(name='p', string='July 2021').next_sibling.next_sibling\n",
        "  else: pass\n",
        "  \n",
        "  for a in month_post.find_all(name='a'):\n",
        "    institution.append(a.parent.next_element.replace(\", \", \"\"))\n",
        "    position.append(a.text)\n",
        "    link.append('https://www.h-net.org/jobs/' + a['href'])\n",
        "  \n",
        "  for i in link[len(deadline):]:\n",
        "    post = requests.get(i)\n",
        "    post_soup = BeautifulSoup(post.text, \"html.parser\")\n",
        "    td1 = post_soup.find('td', string='Closing Date')\n",
        "    date_str = td1.find_next().text\n",
        "    date = datetime.strptime(date_str, '%m/%d/%Y')\n",
        "    deadline.append(date)\n",
        "\n",
        "    td2 = post_soup.find('td', string='Primary Category:')\n",
        "    discipline.append(td2.find_next().text)\n",
        "\n",
        "d = {'Institution':institution, 'Position': position, 'Deadline': deadline, 'Link': link,'Discipline': discipline}\n",
        "df_hnet = pd.DataFrame(d)\n",
        "df_hnet = df_hnet.drop_duplicates(subset=['Link'])\n",
        "\n",
        "df_hnet.head()"
      ],
      "execution_count": null,
      "outputs": [
        {
          "output_type": "execute_result",
          "data": {
            "text/html": [
              "<div>\n",
              "<style scoped>\n",
              "    .dataframe tbody tr th:only-of-type {\n",
              "        vertical-align: middle;\n",
              "    }\n",
              "\n",
              "    .dataframe tbody tr th {\n",
              "        vertical-align: top;\n",
              "    }\n",
              "\n",
              "    .dataframe thead th {\n",
              "        text-align: right;\n",
              "    }\n",
              "</style>\n",
              "<table border=\"1\" class=\"dataframe\">\n",
              "  <thead>\n",
              "    <tr style=\"text-align: right;\">\n",
              "      <th></th>\n",
              "      <th>Institution</th>\n",
              "      <th>Position</th>\n",
              "      <th>Deadline</th>\n",
              "      <th>Link</th>\n",
              "      <th>Discipline</th>\n",
              "    </tr>\n",
              "  </thead>\n",
              "  <tbody>\n",
              "    <tr>\n",
              "      <th>0</th>\n",
              "      <td>Cornell University</td>\n",
              "      <td>2022-23 Society for the Humanities Fellowships...</td>\n",
              "      <td>2021-09-20</td>\n",
              "      <td>https://www.h-net.org/jobs/job_display.php?id=...</td>\n",
              "      <td>Humanities</td>\n",
              "    </tr>\n",
              "    <tr>\n",
              "      <th>1</th>\n",
              "      <td>Texas Tech University</td>\n",
              "      <td>Post-Doctoral Fellow in the Humanities: Anti-R...</td>\n",
              "      <td>2021-07-30</td>\n",
              "      <td>https://www.h-net.org/jobs/job_display.php?id=...</td>\n",
              "      <td>Humanities</td>\n",
              "    </tr>\n",
              "    <tr>\n",
              "      <th>2</th>\n",
              "      <td>German Historical Institute</td>\n",
              "      <td>Binational Visiting Tandem Fellowship in the H...</td>\n",
              "      <td>2021-11-02</td>\n",
              "      <td>https://www.h-net.org/jobs/job_display.php?id=...</td>\n",
              "      <td>Immigration History / Studies</td>\n",
              "    </tr>\n",
              "    <tr>\n",
              "      <th>3</th>\n",
              "      <td>Yale University</td>\n",
              "      <td>Assistant Professor in Qing History</td>\n",
              "      <td>2021-10-07</td>\n",
              "      <td>https://www.h-net.org/jobs/job_display.php?id=...</td>\n",
              "      <td>Asian History / Studies</td>\n",
              "    </tr>\n",
              "    <tr>\n",
              "      <th>4</th>\n",
              "      <td>Yale University</td>\n",
              "      <td>Assistant Professor, Southeast Asia</td>\n",
              "      <td>2021-10-07</td>\n",
              "      <td>https://www.h-net.org/jobs/job_display.php?id=...</td>\n",
              "      <td>Asian History / Studies</td>\n",
              "    </tr>\n",
              "    <tr>\n",
              "      <th>5</th>\n",
              "      <td>Daniel K. InouyeAsia-Pacific Center for Securi...</td>\n",
              "      <td>Professor</td>\n",
              "      <td>2021-08-03</td>\n",
              "      <td>https://www.h-net.org/jobs/job_display.php?id=...</td>\n",
              "      <td>Asian History / Studies</td>\n",
              "    </tr>\n",
              "    <tr>\n",
              "      <th>9</th>\n",
              "      <td>University of Michigan</td>\n",
              "      <td>Assistant Professor/Postdoctoral Research Fellow</td>\n",
              "      <td>2021-09-15</td>\n",
              "      <td>https://www.h-net.org/jobs/job_display.php?id=...</td>\n",
              "      <td>Humanities</td>\n",
              "    </tr>\n",
              "    <tr>\n",
              "      <th>10</th>\n",
              "      <td>Rowan University</td>\n",
              "      <td>Teaching Fellowship in Digital History</td>\n",
              "      <td>2021-08-31</td>\n",
              "      <td>https://www.h-net.org/jobs/job_display.php?id=...</td>\n",
              "      <td>Digital Humanities</td>\n",
              "    </tr>\n",
              "    <tr>\n",
              "      <th>12</th>\n",
              "      <td>Singapore Management University</td>\n",
              "      <td>Full-Time Assistant Professor on the Education...</td>\n",
              "      <td>2021-08-27</td>\n",
              "      <td>https://www.h-net.org/jobs/job_display.php?id=...</td>\n",
              "      <td>Educational Technology</td>\n",
              "    </tr>\n",
              "  </tbody>\n",
              "</table>\n",
              "</div>"
            ],
            "text/plain": [
              "                                          Institution  ...                     Discipline\n",
              "0                                  Cornell University  ...                     Humanities\n",
              "1                               Texas Tech University  ...                     Humanities\n",
              "2                         German Historical Institute  ...  Immigration History / Studies\n",
              "3                                     Yale University  ...        Asian History / Studies\n",
              "4                                     Yale University  ...        Asian History / Studies\n",
              "5   Daniel K. InouyeAsia-Pacific Center for Securi...  ...        Asian History / Studies\n",
              "9                              University of Michigan  ...                     Humanities\n",
              "10                                   Rowan University  ...             Digital Humanities\n",
              "12                    Singapore Management University  ...         Educational Technology\n",
              "\n",
              "[9 rows x 5 columns]"
            ]
          },
          "metadata": {
            "tags": []
          },
          "execution_count": 77
        }
      ]
    },
    {
      "cell_type": "markdown",
      "metadata": {
        "id": "nqAfF500KDUw"
      },
      "source": [
        "### 2. Inside Higher Education"
      ]
    },
    {
      "cell_type": "markdown",
      "metadata": {
        "id": "D2n7RgX-vV3d"
      },
      "source": [
        "Inside Higher Education URL Search Code (selected)\n",
        "\n",
        "\n",
        "```\n",
        "Keywords= *YOUR KEYWORDS*\n",
        "FacultyJobs= {1: Arts & Humanities}\n",
        "SpecialFilters= {513023:'Assistant Professor', 125:'Tenured & Tenure-Track', 126:'Adjunct', 127:'Postdoc', 128:'Alt-Ac'}\n",
        "EmploymentType= {129:'Full Time', 130:'Part Time'}\n",
        "InstitutionType={131:'Community College', 132:'Four-Year Institution'}\n",
        "```\n",
        "\n",
        "\n",
        "\n",
        "\n",
        "\n"
      ]
    },
    {
      "cell_type": "code",
      "metadata": {
        "id": "R0MR5mruX1q9",
        "colab": {
          "base_uri": "https://localhost:8080/",
          "height": 235
        },
        "outputId": "37f47584-84cd-4ee7-c3a3-4bcbb5429639"
      },
      "source": [
        "#CHANGE THE KEYWORDS IN 'my_keyword='\n",
        "my_keyword = ['chinese or asian','film or media','art or art history']\n",
        "\n",
        "result = pd.DataFrame()\n",
        "\n",
        "#CHANGE THE URL SEARCH CODE IN \"ihe_URL=\" IF NECCESSARY\n",
        "for keyword in my_keyword:\n",
        "  ihe_URL = f\"https://careers.insidehighered.com/searchjobs/?Keywords={keyword}&radialtown=&LocationId=&RadialLocation=20&NearFacetsShown=true&CountryCode=&FacultyJobs=1&SpecialFilters=513023&SpecialFilters=125&SpecialFilters=127&EmploymentType=129\"\n",
        "  ihe_page = requests.get(ihe_URL)\n",
        "  ihe_soup = BeautifulSoup(ihe_page.text, \"html.parser\")\n",
        "\n",
        "  institution = []\n",
        "  position = []\n",
        "  link = []\n",
        "\n",
        "#CHANGE THE SEARCH LIMIT IN \"limit=\" IF NECCESSARY\n",
        "  for li in ihe_soup.find_all(name='li', attrs={'class':'lister__meta-item lister__meta-item--recruiter'}, limit=5)[3:]:\n",
        "    institution.append(li.text)\n",
        "\n",
        "  for h in ihe_soup.find_all(name='h3', attrs={'class':'lister__header'}, limit=5)[3:]:\n",
        "    position.append(h.text)\n",
        "    link.append('https://careers.insidehighered.com' + h.next['href'].strip())\n",
        "\n",
        "  deadline = []\n",
        "\n",
        "  for i in link:\n",
        "    post = requests.get(i)\n",
        "    post_soup = BeautifulSoup(post.text, \"html.parser\")\n",
        "    td1 = post_soup.find('dt', string='Closing date')\n",
        "    date_str = td1.find_next().text\n",
        "    date = datetime.strptime(date_str, '%b %d, %Y')\n",
        "    deadline.append(date)\n",
        "\n",
        "  d = {'Institution':institution, 'Position': position, 'Deadline': deadline, 'Link': link}\n",
        "  df_ihe = pd.DataFrame(d)\n",
        "  df_ihe['Discipline'] = keyword\n",
        "  result = result.append(df_ihe)\n",
        "\n",
        "result"
      ],
      "execution_count": null,
      "outputs": [
        {
          "output_type": "execute_result",
          "data": {
            "text/html": [
              "<div>\n",
              "<style scoped>\n",
              "    .dataframe tbody tr th:only-of-type {\n",
              "        vertical-align: middle;\n",
              "    }\n",
              "\n",
              "    .dataframe tbody tr th {\n",
              "        vertical-align: top;\n",
              "    }\n",
              "\n",
              "    .dataframe thead th {\n",
              "        text-align: right;\n",
              "    }\n",
              "</style>\n",
              "<table border=\"1\" class=\"dataframe\">\n",
              "  <thead>\n",
              "    <tr style=\"text-align: right;\">\n",
              "      <th></th>\n",
              "      <th>Institution</th>\n",
              "      <th>Position</th>\n",
              "      <th>Deadline</th>\n",
              "      <th>Link</th>\n",
              "      <th>Discipline</th>\n",
              "    </tr>\n",
              "  </thead>\n",
              "  <tbody>\n",
              "    <tr>\n",
              "      <th>0</th>\n",
              "      <td>Michigan State University</td>\n",
              "      <td>Assistant Professor-FixedTerm</td>\n",
              "      <td>2023-02-22</td>\n",
              "      <td>https://careers.insidehighered.com/job/2100275...</td>\n",
              "      <td>chinese or asian</td>\n",
              "    </tr>\n",
              "    <tr>\n",
              "      <th>1</th>\n",
              "      <td>University of Missouri-Kansas City</td>\n",
              "      <td>Director of Advanced Education in Periodontics...</td>\n",
              "      <td>2021-09-03</td>\n",
              "      <td>https://careers.insidehighered.com/job/2161376...</td>\n",
              "      <td>chinese or asian</td>\n",
              "    </tr>\n",
              "    <tr>\n",
              "      <th>0</th>\n",
              "      <td>University of Denver</td>\n",
              "      <td>Visiting Teaching Assistant Professor, Media, ...</td>\n",
              "      <td>2021-08-13</td>\n",
              "      <td>https://careers.insidehighered.com/job/2167055...</td>\n",
              "      <td>film or media</td>\n",
              "    </tr>\n",
              "    <tr>\n",
              "      <th>1</th>\n",
              "      <td>Middle Georgia State University</td>\n",
              "      <td>10017846 Assistant Professor of Art</td>\n",
              "      <td>2021-09-28</td>\n",
              "      <td>https://careers.insidehighered.com/job/2177809...</td>\n",
              "      <td>film or media</td>\n",
              "    </tr>\n",
              "    <tr>\n",
              "      <th>0</th>\n",
              "      <td>Georgia College &amp; State University</td>\n",
              "      <td>Assistant Professor of Art: Art History, Moder...</td>\n",
              "      <td>2021-09-26</td>\n",
              "      <td>https://careers.insidehighered.com/job/2070651...</td>\n",
              "      <td>art or art history</td>\n",
              "    </tr>\n",
              "    <tr>\n",
              "      <th>1</th>\n",
              "      <td>Kennesaw State University</td>\n",
              "      <td>Limited Term Assistant Professor of Art History</td>\n",
              "      <td>2033-06-18</td>\n",
              "      <td>https://careers.insidehighered.com/job/2169250...</td>\n",
              "      <td>art or art history</td>\n",
              "    </tr>\n",
              "  </tbody>\n",
              "</table>\n",
              "</div>"
            ],
            "text/plain": [
              "                          Institution  ...          Discipline\n",
              "0           Michigan State University  ...    chinese or asian\n",
              "1  University of Missouri-Kansas City  ...    chinese or asian\n",
              "0                University of Denver  ...       film or media\n",
              "1     Middle Georgia State University  ...       film or media\n",
              "0  Georgia College & State University  ...  art or art history\n",
              "1           Kennesaw State University  ...  art or art history\n",
              "\n",
              "[6 rows x 5 columns]"
            ]
          },
          "metadata": {
            "tags": []
          },
          "execution_count": 108
        }
      ]
    },
    {
      "cell_type": "markdown",
      "metadata": {
        "id": "vCdcY0Is1fqj"
      },
      "source": [
        "### 3. Higher Ed Jobs"
      ]
    },
    {
      "cell_type": "markdown",
      "metadata": {
        "id": "IdOAtKdlsVoh"
      },
      "source": [
        "\n",
        "Higher Ed Jobs URL Search Code\n",
        "\n",
        "\n",
        "```\n",
        "JobCat={141:  Admin - Academic Advising, 42:  Admin - Administrative Assistants, 14:  Admin - Admissions and Enrollment, 219:  Admin - Adult and Continuing Education Programs, 15:  Admin - Alumni Relations, 36:  Admin - Arts and Museum Administration, 212:  Admin - Assessment,  Accreditation,  and Compliance, 16:  Admin - Athletics and Coaching, 17:  Admin - Broadcasting,  Radio,  and Television, 213:  Admin - Bursar and Student Accounts, 18:  Admin - Business and Financial Services, 22:  Admin - Career Development and Services, 177:  Admin - Child Care Services, 37:  Admin - Communications,  Marketing,  and Public Affairs, 172:  Admin - Conference and Events Administration, 21:  Admin - Counseling and Psychological Services, 217:  Admin - Curriculum Design, 23:  Admin - Development and Fundraising, 179:  Admin - Disability and Accessibility Services, 220:  Admin - Distance Education Programs, 35:  Admin - Diversity and Multicultural Affairs, 214:  Admin - Economic and Business Development, 205:  Admin - Executive Assistants, 25:  Admin - Extension and Outreach, 26:  Admin - Facilities Management, 148:  Admin - Faculty Development, 27:  Admin - Financial Aid, 143:  Admin - Food Services, 29:  Admin - Health and Medical Services, 30:  Admin - Human Resources, 211:  Admin - Information Technology - Database Administrator, 163:  Admin - Information Technology - IT Manager/Director, 161:  Admin - Information Technology - IT Support and Training, 175:  Admin - Information Technology - Multimedia, 173:  Admin - Information Technology - Network/System Administrator, 162:  Admin - Information Technology - Other IT, 159:  Admin - Information Technology - Programmer/Analyst, 160:  Admin - Information Technology - Web Developer, 31:  Admin - Institutional Research and Planning, 218:  Admin - Instructional Technology and Design, 32:  Admin - International Programs and Services, 150:  Admin - Laboratory and Research, 33:  Admin - Legal Affairs, 34:  Admin - Libraries, 206:  Admin - Occupational and Environmental Safety, 43:  Admin - Other Administrative Positions, 39:  Admin - Police and Public Safety, 24:  Admin - Publications and Editing, 149:  Admin - Registrars, 174:  Admin - Religious and Spiritual Life, 38:  Admin - Residence Life and Housing, 215:  Admin - Sales, 28:  Admin - Sponsored Programs,  Grants,  and Contracts, 40:  Admin - Student Affairs and Services, 216:  Admin - Tutors and Learning Resources, 41:  Admin - Volunteer Programs and Service Learning, 1:  Executive - Academic Vice Presidents and Provosts, 164:  Executive - Administrative Vice Presidents, 243:  Executive - Deans - Agriculture, 244:  Executive - Deans - Business, 245:  Executive - Deans - Communications, 246:  Executive - Deans - Education, 247:  Executive - Deans - Engineering, 248:  Executive - Deans - Fine and Applied Arts, 249:  Executive - Deans - Health, 250:  Executive - Deans - Law, 251:  Executive - Deans - Liberal Arts, 252:  Executive - Deans - Medicine, 254:  Executive - Deans - Other, 253:  Executive - Deans - Science, 207:  Executive - Other Executive, 4:  Executive - Presidents and Chancellors, 50:  Faculty - Agriculture - Agricultural Economics and Agribusiness, 51:  Faculty - Agriculture - Animal Science, 52:  Faculty - Agriculture - Entomology, 54:  Faculty - Agriculture - Environmental Science,  Ecology,  and Forestry, 140:  Faculty - Agriculture - Extension, 53:  Faculty - Agriculture - Food Science, 123:  Faculty - Agriculture - Horticulture and Landscape Architecture, 58:  Faculty - Agriculture - Other, 49:  Faculty - Agriculture - Plant and Soil Science, 57:  Faculty - Agriculture - Veterinary Medicine, 45:  Faculty - Business - Accounting, 256:  Faculty - Business - Business Administration, 228:  Faculty - Business - Business Law, 255:  Faculty - Business - Entrepreneurship, 44:  Faculty - Business - Finance, 183:  Faculty - Business - Hotel and Restaurant Management, 203:  Faculty - Business - Human Resources, 144:  Faculty - Business - Information Systems and Technology, 229:  Faculty - Business - International Business, 46:  Faculty - Business - Management, 47:  Faculty - Business - Marketing and Sales, 48:  Faculty - Business - Other Business, 130:  Faculty - Communications - Broadcast Journalism, 132:  Faculty - Communications - Journalism, 152:  Faculty - Communications - Media and Communication Studies, 133:  Faculty - Communications - Other Communications, 129:  Faculty - Communications - Public Relations and Advertising, 131:  Faculty - Communications - Radio,  Television,  and Film, 128:  Faculty - Communications - Speech and Public Speaking, 59:  Faculty - Education - Adult and Distance Education (study of), 62:  Faculty - Education - Counselor Education, 63:  Faculty - Education - Curriculum and Instruction, 64:  Faculty - Education - Edu. Admin and Leadership (study of), 226:  Faculty - Education - Educational Psychology, 68:  Faculty - Education - Higher Education (study of), 69:  Faculty - Education - Instructional Technology and Design, 75:  Faculty - Education - Other Education (study of), 166:  Faculty - Education - Reading and Literacy, 227:  Faculty - Education - School Psychology, 72:  Faculty - Education - Special Education, 184:  Faculty - Education - Teacher Education, 73:  Faculty - Education - Teacher Education - Early Childhood, 67:  Faculty - Education - Teacher Education - Elementary, 180:  Faculty - Education - Teacher Education - Middle School, 71:  Faculty - Education - Teacher Education - Secondary Education, 110:  Faculty - Engineering - Aerospace, 111:  Faculty - Engineering - Agricultural, 113:  Faculty - Engineering - Biological, 114:  Faculty - Engineering - Chemical, 115:  Faculty - Engineering - Civil and Environmental, 116:  Faculty - Engineering - Computer Engineering, 117:  Faculty - Engineering - Electrical, 146:  Faculty - Engineering - Industrial and Manufacturing, 118:  Faculty - Engineering - Mechanical, 120:  Faculty - Engineering - Other Engineering, 121:  Faculty - Fine and Applied Arts - Architecture, 126:  Faculty - Fine and Applied Arts - Art, 122:  Faculty - Fine and Applied Arts - Art History, 260:  Faculty - Fine and Applied Arts - Dance, 230:  Faculty - Fine and Applied Arts - Digital Arts, 197:  Faculty - Fine and Applied Arts - Fashion and Textile Design, 155:  Faculty - Fine and Applied Arts - Graphic Design, 201:  Faculty - Fine and Applied Arts - Industrial Design, 167:  Faculty - Fine and Applied Arts - Interior Design, 124:  Faculty - Fine and Applied Arts - Music, 127:  Faculty - Fine and Applied Arts - Other Fine and Applied Arts, 196:  Faculty - Fine and Applied Arts - Photography, 125:  Faculty - Fine and Applied Arts - Theatre, 151:  Faculty - Health - Communication Sciences and Disorders, 193:  Faculty - Health - Health Education and Promotion, 259:  Faculty - Health - Health Information Technology, 200:  Faculty - Health - Healthcare Administration, 185:  Faculty - Health - Nutrition and Dietetics, 138:  Faculty - Health - Other Health Faculty, 105:  Faculty - Health - Physical Education and Kinesiology, 153:  Faculty - Health - Physical and Occupational Therapy, 221:  Faculty - Health - Public and Environmental Health, 208:  Faculty - Health - Sports Mgmt,  Recreation,  and Leisure Studies, 134:  Faculty - Law and Legal Studies, 77:  Faculty - Liberal Arts - American Studies, 78:  Faculty - Liberal Arts - Anthropology, 156:  Faculty - Liberal Arts - Criminal Justice, 81:  Faculty - Liberal Arts - Economics, 82:  Faculty - Liberal Arts - English and Literature, 83:  Faculty - Liberal Arts - English as Second Language, 76:  Faculty - Liberal Arts - Ethnic and Multicultural Studies, 157:  Faculty - Liberal Arts - Foreign Languages and Literatures, 139:  Faculty - Liberal Arts - History, 199:  Faculty - Liberal Arts - Human Development and Family Studies, 204:  Faculty - Liberal Arts - Humanities, 88:  Faculty - Liberal Arts - Linguistics, 97:  Faculty - Liberal Arts - Other Liberal Arts, 89:  Faculty - Liberal Arts - Philosophy, 90:  Faculty - Liberal Arts - Political Science, 91:  Faculty - Liberal Arts - Psychology, 209:  Faculty - Liberal Arts - Public Administration and Policy, 92:  Faculty - Liberal Arts - Religious Studies and Theology, 222:  Faculty - Liberal Arts - Security Studies, 261:  Faculty - Liberal Arts - Sign Language, 169:  Faculty - Liberal Arts - Social Work, 93:  Faculty - Liberal Arts - Sociology, 202:  Faculty - Liberal Arts - Urban Studies and Planning, 96:  Faculty - Liberal Arts - Women's and Gender Studies, 181:  Faculty - Medicine - Dentistry, 192:  Faculty - Medicine - Emergency Medical Services, 137:  Faculty - Medicine - Medical Researcher, 136:  Faculty - Medicine - Nursing, 210:  Faculty - Medicine - Other Medicine, 154:  Faculty - Medicine - Pharmacology, 223:  Faculty - Medicine - Physician Assistant, 135:  Faculty - Medicine - Physicians, 168:  Faculty - Medicine - Radiology, 98:  Faculty - Science - Astronomy and Astrophysics, 99:  Faculty - Science - Biochemistry and Molecular Biology, 100:  Faculty - Science - Biology, 101:  Faculty - Science - Chemistry, 102:  Faculty - Science - Computer Science, 103:  Faculty - Science - Geography, 170:  Faculty - Science - Geology,  Earth Sciences,  and Oceanography, 182:  Faculty - Science - Library and Information Science, 104:  Faculty - Science - Mathematics, 108:  Faculty - Science - Other Science, 106:  Faculty - Science - Physics, 107:  Faculty - Science - Statistics, 190:  Faculty - Vocational and Technical - Automotive Technology, 187:  Faculty - Vocational and Technical - Aviation, 189:  Faculty - Vocational and Technical - Construction and Building Trades, 224:  Faculty - Vocational and Technical - Cosmetology, 188:  Faculty - Vocational and Technical - Culinary Arts, 195:  Faculty - Vocational and Technical - Electronics, 198:  Faculty - Vocational and Technical - Fire Science, 225:  Faculty - Vocational and Technical - Massage Therapy, 257:  Faculty - Vocational and Technical - Medical Assistants, 258:  Faculty - Vocational and Technical - Medical Billing and Coding, 74:  Faculty - Vocational and Technical - Other, 191:  Faculty - Vocational and Technical - Telecommunications, 186:  Faculty - Vocational and Technical - Tourism}\n",
        "PosType={1: Full-Time, 2: Adjunct/Part-Time}\n",
        "InstType={1: Four-Year/Advanced Degree (B.A., M.A., and/or Ph.D.), 2: Two-Year/Community College (Associate Degree), 3: Outside Higher Education}\n",
        "Remote={1: Location, 2: Remote}\n",
        "```\n"
      ]
    },
    {
      "cell_type": "code",
      "metadata": {
        "id": "lWgiTmA-fOLw"
      },
      "source": [
        "# server checks headers & change configuration to bypass the blockage\n",
        "\n",
        "def get_page_source(n):\n",
        "    url = 'https://www.higheredjobs.com/search/advanced_action.cfm?JobCat=152&JobCat=131&JobCat=82&JobCat=76&JobCat=157&JobCat=204&JobCat=97&PosType=1&InstType=1&Keyword=chinese+or+asian&Remote=1&Region=&Submit=Search+Jobs'\n",
        "    headers = {'User-Agent': 'Mozilla/5.0 (Macintosh; Intel Mac OS X 10_10_1) AppleWebKit/537.36 (KHTML, like Gecko) Chrome/39.0.2171.95 Safari/537.36'}\n",
        "    response = requests.get(url, headers=headers)\n",
        "    return response.text\n",
        "\n",
        "n = 1006233\n",
        "text = get_page_source(n)"
      ],
      "execution_count": 3,
      "outputs": []
    },
    {
      "cell_type": "code",
      "metadata": {
        "id": "uOsU5Y4Mkp_t",
        "outputId": "829a3de2-5806-442b-d8c0-034156423ebd",
        "colab": {
          "base_uri": "https://localhost:8080/",
          "height": 137
        }
      },
      "source": [
        "text"
      ],
      "execution_count": 4,
      "outputs": [
        {
          "output_type": "execute_result",
          "data": {
            "application/vnd.google.colaboratory.intrinsic+json": {
              "type": "string"
            },
            "text/plain": [
              "'\\r\\n\\t<!DOCTYPE html>\\r\\n\\r\\n\\r\\n\\r\\n<!--[if IE 8]> <html lang=\"en\" class=\"ie8 no-js\"> <![endif]-->\\r\\n<!--[if IE 9]> <html lang=\"en\" class=\"ie9 no-js\"> <![endif]-->\\r\\n<!--[if !IE]><!-->\\r\\n\\r\\n\\t<html lang=\"en\">\\r\\n\\r\\n<!--<![endif]-->\\r\\n\\r\\n<!-- BEGIN head -->\\r\\n<head><script src=\"/way-All-which-sitie-word-trone-How-will-to-our-h\" async></script>\\r\\n\\t\\r\\n\\t\\r\\n\\t\\t<meta charset=\"utf-8\" />\\r\\n\\t\\t<meta name=\"viewport\" content=\"width=device-width, initial-scale=1.0\" />\\r\\n\\t\\t<meta http-equiv=\"X-UA-Compatible\" content=\"IE=edge\" />\\r\\n\\r\\n\\t\\t<meta property=\"og:image\" content=\"https://www.higheredjobs.com/images/facebook-logo.jpg\" /> \\t\\t\\r\\n\\r\\n\\t\\t<!-- BEGIN GLOBAL MANDATORY STYLES -->\\r\\n\\t\\t<link href=\"/assets/plugins/bootstrap/css/bootstrap.min.css\" rel=\"stylesheet\" type=\"text/css\" />\\r\\n\\t\\t<link href=\"/assets/custom/bootstrap/css/bootstrap.css\" rel=\"stylesheet\" type=\"text/css\" />\\r\\n\\t\\t<link href=\"/assets/plugins/font-awesome/css/font-awesome.min.css\" rel=\"stylesheet\">\\r\\n\\t\\t<link href=\"/assets/plugins/simple-line-icons/simple-line-icons.min.css\" rel=\"stylesheet\">\\r\\n\\t\\t<!-- END GLOBAL MANDATORY STYLES -->\\r\\n\\r\\n\\t\\t<!-- BEGIN THEME STYLES -->\\r\\n\\t\\t\\r\\n\\t\\t\\t<link href=\"/assets/hej/css/font.css\" rel=\"stylesheet\" type=\"text/css\" />\\r\\n\\t\\t\\t<link href=\"/assets/hej/css/layout.css\" rel=\"stylesheet\" type=\"text/css\" />\\r\\n\\t\\t\\t<link href=\"/assets/hej/css/components.css?v=201116\" rel=\"stylesheet\" type=\"text/css\" />\\r\\n\\t\\t\\t<link href=\"/assets/hej/css/navigation.css\" rel=\"stylesheet\" type=\"text/css\" />\\r\\n\\t\\t\\t<link href=\"/assets/hej/css/print-fixes.css\" rel=\"stylesheet\" type=\"text/css\" />\\r\\n\\t\\t\\r\\n\\t\\t<!-- END THEME STYLES -->\\r\\n\\r\\n\\t\\t<!-- BEGIN ICON REFERENCES -->\\r\\n\\t\\t<link rel=\"apple-touch-icon\" sizes=\"180x180\" href=\"/assets/hej/img/icons/favicons/apple-touch-icon.png?v=9BPJ9Qxp5n\">\\r\\n\\t\\t<link rel=\"icon\" type=\"image/png\" sizes=\"32x32\" href=\"/assets/hej/img/icons/favicons/favicon-32x32.png?v=9BPJ9Qxp5n\">\\r\\n\\t\\t<link rel=\"icon\" type=\"image/png\" sizes=\"16x16\" href=\"/assets/hej/img/icons/favicons/favicon-16x16.png?v=9BPJ9Qxp5n\">\\r\\n\\t\\t<link rel=\"manifest\" href=\"/assets/hej/img/icons/favicons/site.webmanifest?v=9BPJ9Qxp5n\">\\r\\n\\t\\t<link rel=\"mask-icon\" href=\"/assets/hej/img/icons/favicons/safari-pinned-tab.svg?v=9BPJ9Qxp5n\" color=\"#f0ab00\">\\r\\n\\t\\t<link rel=\"shortcut icon\" href=\"/assets/hej/img/icons/favicons/favicon.ico?v=9BPJ9Qxp5n\">\\r\\n\\t\\t<meta name=\"msapplication-TileColor\" content=\"#2d89ef\">\\r\\n\\t\\t<meta name=\"msapplication-config\" content=\"/assets/hej/img/icons/favicons/browserconfig.xml?v=9BPJ9Qxp5n\">\\r\\n\\t\\t<meta name=\"theme-color\" content=\"#ffffff\">\\r\\n\\t\\t<!-- END ICON REFERENCES -->\\r\\n\\r\\n\\t\\r\\n\\t\\t<title>Advanced Search Results - HigherEdJobs</title>\\r\\n\\t\\t<meta name=\"description\" content=\"Jobs in higher education.  Faculty and administrative positions at colleges and universities.  Updated daily.  Free to job seekers.\">\\r\\n\\t\\t<meta name=\"keywords\" content=\"higher education jobs,jobs in higher education,education jobs,jobs in education,faculty positions,university jobs\">\\r\\n\\r\\n\\t\\t\\r\\n\\t\\t\\t<link rel=\"next\" href=\"advanced_action.cfm?Remote=1&Keyword=chinese%20or%20asian&PosType=1&InstType=1&JobCat=152,131,82,76,157,204,97&Region=0&SubRegions=&Metros=&OnlyTitle=0&StartRow=26&SortBy=1\">\\r\\n\\t\\t\\r\\n\\r\\n\\t<style type=\"text/css\">\\r\\n\\t\\th2.search-info {\\r\\n\\t\\t\\tmargin-top: 0px;\\r\\n\\t\\t}\\r\\n\\t\\t.alert.alert-danger h2.search-info {\\r\\n\\t\\t\\tcolor: #a94442;\\r\\n\\t\\t}\\r\\n\\t\\t.expand-group.filters .first-spacer {\\r\\n\\t\\t\\tmax-height: 5px;\\r\\n\\t\\t}\\r\\n\\t\\thr.filter-divide {\\r\\n\\t\\t\\tmargin-top: 0px;\\r\\n\\t\\t\\tmargin-bottom: 0px;\\r\\n\\t\\t\\tborder-top: 1px solid #ccc;\\r\\n\\t\\t}\\r\\n\\t\\t.filter-expand-link {\\r\\n\\t\\t\\tdisplay: inline-block;\\r\\n\\t\\t\\tmargin-bottom: 5px;\\r\\n\\t\\t}\\r\\n\\t\\t.content H1 small,\\r\\n\\t\\t.content H1 small A {\\r\\n\\t\\t\\tfont-weight: normal;\\r\\n\\t\\t}\\r\\n\\r\\n\\t\\t#dc-legend .dc-key {\\r\\n\\t\\t\\tmargin-bottom: 5px;\\r\\n\\t\\t}\\r\\n\\t\\t@media (min-width: 992px) {\\r\\n\\t\\t\\t#dc-legend {\\r\\n\\t\\t\\t\\tmargin-top: -20px;\\r\\n\\t\\t\\t}\\r\\n\\t\\t}\\r\\n\\t\\t.js-clear:hover, .js-clear:active, .js-clear:focus {\\r\\n\\t\\t\\ttext-decoration: none;\\r\\n\\t\\t}\\r\\n\\t\\t#AllJobLink:hover, #AllJobLink:active, #AllJobLink:focus {\\r\\n\\t\\t\\ttext-decoration: none;\\r\\n\\t\\t}\\r\\n\\t</style>\\r\\n\\r\\n\\t\\r\\n\\r\\n\\t<script>\\r\\n\\t\\tvar Job_Array = [];\\r\\n\\t</script>\\r\\n\\r\\n\\t\\t\\r\\n\\t\\t<noscript>\\r\\n\\t\\t\\t<style type=\"text/css\">\\r\\n\\t\\t\\t\\t@media (min-width: 768px) { /*menus work different at XS*/\\r\\n\\t\\t\\t\\t\\tHEADER ul.nav li.dropdown:hover > .arrow,\\r\\n\\t\\t\\t\\t\\tHEADER ul.nav li.dropdown:hover > ul.dropdown-menu {\\r\\n\\t\\t\\t\\t\\t\\tdisplay: block;\\r\\n\\t\\t\\t\\t\\t}\\r\\n\\t\\t\\t\\t}\\r\\n\\t\\t\\t</style>\\r\\n\\t\\t</noscript>\\r\\n\\t\\t<noscript>\\r\\n\\t\\t\\t<style type=\"text/css\">\\r\\n\\t\\t\\t\\t.no-js-hide {\\r\\n\\t\\t\\t\\t\\tdisplay\\t\\t:\\tnone !important;\\r\\n\\t\\t\\t\\t}\\r\\n\\t\\t\\t\\t.no-js-block {\\r\\n\\t\\t\\t\\t\\tdisplay\\t\\t:\\tblock !important;\\r\\n\\t\\t\\t\\t}\\r\\n\\t\\t\\t\\t.no-js-inline {\\r\\n\\t\\t\\t\\t\\tdisplay\\t\\t:\\tinline !important;\\r\\n\\t\\t\\t\\t}\\r\\n\\t\\t\\t</style>\\r\\n\\t\\t</noscript>\\r\\n\\t\\r\\n\\t\\r\\n</head>\\r\\n<!-- END HEAD -->\\r\\n\\r\\n\\r\\n\\t\\r\\n<!-- BEGIN BODY -->\\r\\n<body class=\"\">\\r\\n\\t\\r\\n\\r\\n<div class=\"container\">\\t\\r\\n\\t\\r\\n\\t\\t<a class=\"sr-only sr-only-focusable\" href=\"#mainContent\">Skip to main content</a>\\r\\n\\r\\n\\t\\t\\r\\n\\t\\t\\r\\n\\t\\t\\t\\t\\r\\n\\t\\t<header>\\r\\n\\t\\t\\t<div class=\"row\">\\r\\n\\t\\t\\t\\t\\r\\n\\t\\t\\t\\t\\r\\n\\t\\t\\t\\t\\r\\n\\r\\n\\t\\t\\t\\t<!-- HEADER LEFT -->\\r\\n\\t\\t\\t\\t<div id=\"header-logo\" class=\"col-xs-9 col-sm-6 col-md-4\">\\r\\n\\t\\t\\t\\t\\t<!-- LOGO -->\\r\\n\\t\\t\\t\\t\\t<a href=\"/\"><img src=\"/assets/hej/img/HEJ_Logo_2c.png\" alt=\"HigherEdJobs Logo\" /></a>\\r\\n\\t\\t\\t\\t\\t<!-- /LOGO -->\\r\\n\\t\\t\\t\\t</div>\\r\\n\\t\\t\\t\\t<!-- /HEADER LEFT -->\\r\\n\\r\\n\\t\\t\\t\\t\\r\\n\\r\\n\\t\\t\\t\\t\\t<!-- HEADER RIGHT -->\\r\\n\\t\\t\\t\\t\\t<!-- LOGIN -->\\r\\n\\t\\t\\t\\t\\t<div id=\"header-login\" class=\"hidden-xs col-sm-6 col-md-8\">\\r\\n\\t\\t\\t\\t\\t\\t\\r\\n\\t\\t\\t\\t\\t\\t\\r\\n\\t\\t\\t\\t\\t\\t\\t<a href=\"/myhigheredjobs/login/createprofile.cfm\">Sign Up</a>\\r\\n\\t\\t\\t\\t\\t\\t\\t<span class=\"separator\">|</span>\\r\\n\\t\\t\\t\\t\\t\\t\\t<a href=\"/login.cfm\">Log In</a>\\r\\n\\t\\t\\t\\t\\t\\t\\r\\n\\t\\t\\t\\t\\t</div>\\r\\n\\t\\t\\t\\t\\t<!-- /LOGIN -->\\r\\n\\r\\n\\t\\t\\t\\t\\t<!-- NAV BUTTON - mobile only -->\\r\\n\\t\\t\\t\\t\\t<div id=\"nav-button\" class=\"visible-xs-block hidden-print\">\\r\\n\\t\\t\\t\\t\\t\\t<img src=\"/assets/hej/img/icons/nav_toggle.png\" alt=\"Navigation\" />\\r\\n\\t\\t\\t\\t\\t</div>\\r\\n\\t\\t\\t\\t\\t<!-- /NAV BUTTON -->\\r\\n\\r\\n\\t\\t\\t\\t\\t<!-- NAV -->\\r\\n\\t\\t\\t\\t\\t<nav class=\"navbar hidden-xs\">\\r\\n\\t\\t\\t\\t\\t\\t\\r\\n\\t\\t\\t\\t\\t\\t\\r\\n\\r\\n<ul class=\"nav navbar-nav\">\\r\\n\\r\\n\\t\\r\\n\\t<li class=\"dropdown on\">\\r\\n\\t\\t<a href=\"/search/\" class=\"dropdown-toggle\" data-nav-toggle=\"dropdown\">\\r\\n\\t\\t\\tJob Search\\r\\n\\t\\t\\t<span class=\"fa fa-angle-down visible-xs-inline\"></span>\\r\\n\\t\\t</a>\\r\\n\\t\\t<div class=\"arrow\"></div>\\r\\n\\r\\n\\t\\t<ul class=\"dropdown-menu two-column\">\\r\\n\\t\\t\\t<li class=\"megamenu\">\\r\\n\\t\\t\\t\\t<div class=\"row\">\\r\\n\\t\\t\\t\\t\\t<div class=\"col-xs-6\">\\r\\n\\t\\t\\t\\t\\t\\t<h5>By Category</h5>\\r\\n\\t\\t\\t\\t\\t\\t<ul>\\r\\n\\t\\t\\t\\t\\t\\t\\t<li><a href=\"/admin/\">Administrative</a></li>\\r\\n\\t\\t\\t\\t\\t\\t\\t<li><a href=\"/faculty/\">Faculty</a></li>\\r\\n\\t\\t\\t\\t\\t\\t\\t<li><a href=\"/executive/\">Executive</a></li>\\r\\n\\t\\t\\t\\t\\t\\t</ul>\\r\\n\\t\\t\\t\\t\\t</div>\\r\\n\\t\\t\\t\\t\\t<div class=\"col-xs-6\">\\r\\n\\t\\t\\t\\t\\t\\t<h5>By Location</h5>\\r\\n\\t\\t\\t\\t\\t\\t<ul>\\r\\n\\t\\t\\t\\t\\t\\t\\t<li><a href=\"/region/\">Metro/Region</a></li>\\r\\n\\t\\t\\t\\t\\t\\t\\t<li><a href=\"/state/\">State/Province</a></li>\\r\\n\\t\\t\\t\\t\\t\\t\\t<li><a href=\"/international/\">Country</a></li>\\r\\n\\t\\t\\t\\t\\t\\t\\t<li><a href=\"/search/remote.cfm\">Online/Remote</a></li>\\r\\n\\t\\t\\t\\t\\t\\t</ul>\\r\\n\\t\\t\\t\\t\\t</div>\\r\\n\\t\\t\\t\\t</div>\\r\\n\\t\\t\\t\\t<div class=\"row\">\\r\\n\\t\\t\\t\\t\\t<div class=\"col-xs-6\">\\r\\n\\t\\t\\t\\t\\t\\t<h5>By School</h5>\\r\\n\\t\\t\\t\\t\\t\\t<ul>\\r\\n\\t\\t\\t\\t\\t\\t\\t<li><a href=\"/fouryear/\">Four-Year Institutions</a></li>\\r\\n\\t\\t\\t\\t\\t\\t\\t<li><a href=\"/twoyear/\">Two-Year Institutions</a></li>\\r\\n\\t\\t\\t\\t\\t\\t\\t<li><a href=\"/institution/\">All Institutions</a></li>\\r\\n\\t\\t\\t\\t\\t\\t\\t<li><a href=\"/search/profiles.cfm\">Institutional Profiles</a></li>\\r\\n\\t\\t\\t\\t\\t\\t</ul>\\r\\n\\t\\t\\t\\t\\t</div>\\r\\n\\t\\t\\t\\t\\t<div class=\"col-xs-6\">\\r\\n\\t\\t\\t\\t\\t\\t<h5>By Type</h5>\\r\\n\\t\\t\\t\\t\\t\\t<ul>\\r\\n\\t\\t\\t\\t\\t\\t\\t<li><a href=\"/search/DualCareer.cfm\">Dual Career</a></li>\\r\\n\\t\\t\\t\\t\\t\\t\\t<li><a href=\"/search/today.cfm\">Today\\'s Jobs</a></li>\\r\\n\\t\\t\\t\\t\\t\\t\\t<li><a href=\"/adjunct/\">Adjunct/Part-Time</a></li>\\r\\n\\t\\t\\t\\t\\t\\t\\t<li><a href=\"/search/diversity.cfm\">Diversity &amp; Inclusion</a></li>\\r\\n\\t\\t\\t\\t\\t\\t\\t<li><a href=\"/search/military.cfm\">Military-Friendly</a></li>\\r\\n\\t\\t\\t\\t\\t\\t\\t<li><a href=\"/search/advanced.cfm\">Advanced Search</a></li>\\r\\n\\t\\t\\t\\t\\t\\t</ul>\\r\\n\\t\\t\\t\\t\\t</div>\\r\\n\\t\\t\\t\\t</div>\\r\\n\\t\\t\\t</li>\\r\\n\\t\\t</ul>\\r\\n\\t</li>\\r\\n\\r\\n\\t\\r\\n\\t<li class=\"dropdown\">\\r\\n\\t\\t\\r\\n\\t\\t\\r\\n\\t\\t\\t<a href=\"/myHigherEdJobs/\" class=\"dropdown-toggle\" data-nav-toggle=\"dropdown\">\\r\\n\\t\\t\\t\\tMy Account\\r\\n\\t\\t\\t\\t<span class=\"fa fa-angle-down visible-xs-inline\"></span>\\r\\n\\t\\t\\t</a>\\r\\n\\t\\t\\r\\n\\t\\t<div class=\"arrow\"></div>\\r\\n\\r\\n\\t\\t<ul class=\"dropdown-menu\">\\r\\n\\t\\t\\t<li><a href=\"/myHigherEdJobs/\">Account Home</a></li>\\r\\n\\t\\t\\t<li><a href=\"/myHigherEdJobs/Agent/?section=5\">Job Agents</a></li>\\r\\n\\t\\t\\t<li><a href=\"/myHigherEdJobs/Resume/?section=4\">Resume/CV</a></li>\\r\\n\\t\\t\\t<li><a href=\"/myHigherEdJobs/Documents/\">Other Documents</a></li>\\r\\n\\t\\t\\t<li><a href=\"/myHigherEdJobs/Organizer/?section=1\">Organizer</a></li>\\r\\n\\t\\t\\t<li><a href=\"/myHigherEdJobs/Profile/\">Account Information</a></li>\\r\\n\\t\\t\\t\\r\\n\\t\\t\\t\\t<li class=\"visible-xs-block\"><a href=\"/myhigheredjobs/login/\">Sign In</a></li>\\r\\n\\t\\t\\t\\r\\n\\t\\t</ul>\\r\\n\\t</li>\\r\\n\\r\\n\\t\\r\\n\\t<li class=\"dropdown\">\\r\\n\\t\\t<a href=\"/career/\" class=\"dropdown-toggle\" data-nav-toggle=\"dropdown\">\\r\\n\\t\\t\\tNews &amp; Resources\\r\\n\\t\\t\\t<span class=\"fa fa-angle-down visible-xs-inline\"></span>\\r\\n\\t\\t</a>\\r\\n\\t\\t<div class=\"arrow\"></div>\\r\\n\\r\\n\\t\\t<ul class=\"dropdown-menu two-column\">\\r\\n\\t\\t\\t<li class=\"megamenu\">\\r\\n\\t\\t\\t\\t<div class=\"row\">\\r\\n\\t\\t\\t\\t\\t<div class=\"col-xs-6\">\\r\\n\\t\\t\\t\\t\\t\\t<h5>News</h5>\\r\\n\\t\\t\\t\\t\\t\\t<ul>\\r\\n\\t\\t\\t\\t\\t\\t\\t<li><a href=\"/articles/\">Advice &amp; News</a></li>\\r\\n\\t\\t\\t\\t\\t\\t\\t<li><a href=\"/HigherEdCareers/\">Higher Ed Careers</a></li>\\r\\n\\t\\t\\t\\t\\t\\t\\t<li><a href=\"/blog/\">Author in Residence</a></li>\\r\\n\\t\\t\\t\\t\\t\\t\\t<li><a href=\"/company/news.cfm\">News Releases</a></li>\\r\\n\\t\\t\\t\\t\\t\\t\\t<li><a href=\"/mailinglists/insider.cfm\">Newsletters</a></li>\\r\\n\\t\\t\\t\\t\\t\\t</ul>\\r\\n\\t\\t\\t\\t\\t</div>\\r\\n\\t\\t\\t\\t\\t<div class=\"col-xs-6\">\\r\\n\\t\\t\\t\\t\\t\\t<h5>Resources</h5>\\r\\n\\t\\t\\t\\t\\t\\t<ul>\\r\\n\\t\\t\\t\\t\\t\\t\\t<li><a href=\"/career/\">Career Resources</a></li>\\r\\n\\t\\t\\t\\t\\t\\t\\t<li><a href=\"/salary/\">Salary Data</a></li>\\r\\n\\t\\t\\t\\t\\t\\t\\t<li><a href=\"/career/resumes.cfm\">Job Search Tips</a></li>\\r\\n\\t\\t\\t\\t\\t\\t\\t<li><a href=\"/career/ResumeService.cfm\">Resume/CV Writing<br> Service</a></li>\\r\\n\\t\\t\\t\\t\\t\\t\\t<li><a href=\"/articles/DiversityResources.cfm\">Diversity Resources</a></li>\\r\\n\\t\\t\\t\\t\\t\\t\\t<li><a href=\"/career/SiteListings.cfm\">Search Firms</a></li>\\r\\n\\t\\t\\t\\t\\t\\t</ul>\\r\\n\\t\\t\\t\\t\\t</div>\\r\\n\\t\\t\\t\\t</div>\\r\\n\\t\\t\\t</li>\\r\\n\\t\\t</ul>\\r\\n\\t</li>\\r\\n\\r\\n\\t\\r\\n\\t<li class=\"dropdown js-emplogin\">\\r\\n\\t\\t\\r\\n\\t\\t\\r\\n\\t\\t\\t<a href=\"/employers/\" class=\"dropdown-toggle\" data-nav-toggle=\"dropdown\">\\r\\n\\t\\t\\t\\tEmployers\\r\\n\\t\\t\\t\\t<span class=\"fa fa-angle-down visible-xs-inline\"></span>\\r\\n\\t\\t\\t</a>\\r\\n\\t\\t\\t<div class=\"arrow right-hand\"></div>\\r\\n\\r\\n\\t\\t\\t<ul class=\"dropdown-menu two-column right-hand employer\">\\r\\n\\t\\t\\t\\t<li class=\"megamenu\">\\r\\n\\t\\t\\t\\t\\t<div class=\"row\">\\r\\n\\t\\t\\t\\t\\t\\t<div class=\"col-xs-7\">\\r\\n\\t\\t\\t\\t\\t\\t\\t<h5>Job Postings</h5>\\r\\n\\t\\t\\t\\t\\t\\t\\t<ul>\\r\\n\\t\\t\\t\\t\\t\\t\\t\\t<li><a href=\"/products/singleposting.cfm\">Post a Single Job</a></li>\\r\\n\\t\\t\\t\\t\\t\\t\\t\\t<li><a href=\"/products/job-pack.cfm\">Job Packs</a></li>\\r\\n\\t\\t\\t\\t\\t\\t\\t\\t<li><a href=\"/products/subs.cfm\">Unlimited Postings</a></li>\\r\\n\\t\\t\\t\\t\\t\\t\\t\\t<li><a href=\"/products/vip-position.cfm\">VIP Positions</a></li>\\r\\n\\t\\t\\t\\t\\t\\t\\t\\t<li><a href=\"/products/jobPostingIntegration.cfm\">Automated Postings</a></li>\\r\\n\\t\\t\\t\\t\\t\\t\\t</ul>\\r\\n\\t\\t\\t\\t\\t\\t</div>\\r\\n\\t\\t\\t\\t\\t\\t<div class=\"col-xs-5\">\\r\\n\\t\\t\\t\\t\\t\\t\\t<h5>Other Products</h5>\\r\\n\\t\\t\\t\\t\\t\\t\\t<ul>\\r\\n\\t\\t\\t\\t\\t\\t\\t\\t<li><a href=\"/products/employer-branding.cfm\">Employer Branding</a></li>\\r\\n\\t\\t\\t\\t\\t\\t\\t\\t<li><a href=\"/products/resumedatabase.cfm\">Resume Database</a></li>\\r\\n\\t\\t\\t\\t\\t\\t\\t\\t<li><a href=\"/products/InstProfile.cfm\">Institutional Profile</a></li>\\r\\n\\t\\t\\t\\t\\t\\t\\t\\t<li><a href=\"/employers/interim.cfm\">Interim Search</a></li>\\r\\n\\t\\t\\t\\t\\t\\t\\t\\t<li><a href=\"/products/\">View All Products</a></li>\\r\\n\\t\\t\\t\\t\\t\\t\\t</ul>\\r\\n\\t\\t\\t\\t\\t\\t</div>\\r\\n\\t\\t\\t\\t\\t</div>\\r\\n\\t\\t\\t\\t\\t<div class=\"row\">\\r\\n\\t\\t\\t\\t\\t\\t<div class=\"col-xs-7\">\\r\\n\\t\\t\\t\\t\\t\\t\\t<h5>Posting Upgrades</h5>\\r\\n\\t\\t\\t\\t\\t\\t\\t<ul>\\r\\n\\t\\t\\t\\t\\t\\t\\t\\t<li><a href=\"/products/AAPacks.cfm\">Diversity &amp; Inclusion Email</a></li>\\r\\n\\t\\t\\t\\t\\t\\t\\t\\t<li><a href=\"/products/featuredAAPosition.cfm\">Diversity &amp; Inclusion Spotlight</a></li>\\r\\n\\t\\t\\t\\t\\t\\t\\t\\t<li><a href=\"/products/priority.cfm\">Priority Job Upgrade</a></li>\\r\\n\\t\\t\\t\\t\\t\\t\\t\\t<li><a href=\"/products/militaryupgrade.cfm\">Military Upgrade</a></li>\\r\\n\\t\\t\\t\\t\\t\\t\\t\\t<li><a href=\"/products/socialmedia.cfm\">Social Media Upgrade</a></li>\\r\\n\\t\\t\\t\\t\\t\\t\\t\\t<li><a href=\"/products/featuredExecPosition.cfm\">Featured Executive Position</a></li>\\r\\n\\t\\t\\t\\t\\t\\t\\t</ul>\\r\\n\\t\\t\\t\\t\\t\\t</div>\\r\\n\\t\\t\\t\\t\\t\\t<div class=\"col-xs-5\">\\r\\n\\t\\t\\t\\t\\t\\t\\t<h5>More Info</h5>\\r\\n\\t\\t\\t\\t\\t\\t\\t<ul>\\r\\n\\t\\t\\t\\t\\t\\t\\t\\t<li><a href=\"/popup/myHEJDemographics.cfm\">Our Audience</a></li>\\r\\n\\t\\t\\t\\t\\t\\t\\t\\t<li><a  href=\"/popup/Testimonials.cfm?TestimonialType=1\">Testimonials</a></li>\\r\\n\\t\\t\\t\\t\\t\\t\\t\\t<li><a href=\"/payments\">Pay Your Invoice</a></li>\\r\\n\\t\\t\\t\\t\\t\\t\\t\\t<li><a href=\"/company/contact.cfm\">Contact Us</a></li>\\r\\n\\t\\t\\t\\t\\t\\t\\t\\t<li class=\"visible-xs-block\"><a href=\"/employers/login.cfm\">Sign In</a></li>\\r\\n\\t\\t\\t\\t\\t\\t\\t</ul>\\r\\n\\t\\t\\t\\t\\t\\t</div>\\r\\n\\t\\t\\t\\t\\t</div>\\r\\n\\t\\t\\t\\t</li>\\r\\n\\t\\t\\t</ul>\\r\\n\\r\\n\\t\\t\\r\\n\\t</li>\\r\\n</ul>\\r\\n\\r\\n\\t\\t\\t\\t\\t\\t\\r\\n\\t\\t\\t\\t\\t</nav>\\r\\n\\t\\t\\t\\t\\t<!-- /NAV -->\\r\\n\\t\\t\\t\\t\\t<!-- /HEADER RIGHT -->\\r\\n\\t\\t\\t\\t\\r\\n\\t\\t\\t</div>\\r\\n\\t\\t</header>\\r\\n\\t\\r\\n\\t\\r\\n\\t\\r\\n\\t<div id=\"mainContent\" class=\"main\">\\r\\n\\t\\t\\r\\n\\t\\t\\r\\n\\t\\t\\t<div class=\"banner\">\\r\\n\\t\\t\\t\\t\\r\\n\\t\\t\\t</div>\\r\\n\\t\\t\\r\\n\\r\\n\\t<div id=\"breadcrumbs\" class=\"hidden-xs\">\\r\\n\\t\\t<ul>\\r\\n\\t\\t\\t<li>\\r\\n\\t\\t\\t\\t<a href=\"/\">Home</a>\\r\\n\\t\\t\\t</li>\\r\\n\\r\\n\\t\\t\\t\\r\\n\\t\\t\\t\\r\\n\\t\\t\\t\\t\\t<li><a href=\"/search/\">Jobs</a></li>\\r\\n\\t\\t\\t\\t\\r\\n\\t\\t\\t\\t\\t<li><a href=\"advanced.cfm\">Advanced Search</a></li>\\r\\n\\t\\t\\t\\t\\r\\n\\t\\t\\t\\t\\t<li>Job Listings</li>\\r\\n\\t\\t\\t\\t\\r\\n\\t\\t</ul>\\r\\n\\t</div>\\r\\n\\r\\n\\r\\n\\r\\n\\t<form id=\"actionForm\" class=\"row\" action=\"advanced_action.cfm\" method=\"get\">\\r\\n\\t\\t\\r\\n\\t\\t\\r\\n\\t\\t\\t\\t\\t<input type=\"hidden\" name=\"Remote\" value=\"1\" />\\r\\n\\t\\t\\t\\t\\r\\n\\t\\t\\t\\t\\t<input type=\"hidden\" name=\"Keyword\" value=\"chinese or asian\" />\\r\\n\\t\\t\\t\\t\\r\\n\\t\\t\\t\\t\\t<input type=\"hidden\" name=\"PosType\" value=\"1\" />\\r\\n\\t\\t\\t\\t\\r\\n\\t\\t\\t\\t\\t<input type=\"hidden\" name=\"InstType\" value=\"1\" />\\r\\n\\t\\t\\t\\t\\r\\n\\t\\t\\t\\t\\t<input type=\"hidden\" name=\"JobCat\" value=\"152,131,82,76,157,204,97\" />\\r\\n\\t\\t\\t\\t\\r\\n\\t\\t\\t\\t\\t<input type=\"hidden\" name=\"Region\" value=\"0\" />\\r\\n\\t\\t\\t\\t\\r\\n\\t\\t\\t\\t\\t<input type=\"hidden\" name=\"SubRegions\" value=\"\" />\\r\\n\\t\\t\\t\\t\\r\\n\\t\\t\\t\\t\\t<input type=\"hidden\" name=\"Metros\" value=\"\" />\\r\\n\\t\\t\\t\\t\\r\\n\\t\\t\\t\\t\\t<input type=\"hidden\" name=\"OnlyTitle\" value=\"0\" />\\r\\n\\t\\t\\t\\t\\r\\n\\r\\n\\t\\t<div class=\"content col-md-8 col-lg-9\">\\r\\n\\t\\t\\t\\r\\n\\t\\t\\t\\t \\r\\n\\t\\t\\t\\t<h1>\\r\\n\\t\\t\\t\\t\\tSearch Results \\r\\n\\t\\t\\t\\t</h1>\\r\\n\\r\\n\\t\\t\\t\\t\\t\\r\\n\\t\\t\\t\\t \\r\\n\\t\\t\\t\\t\\r\\n\\t\\t\\t\\t\\t<div class=\"overview-actions row\">\\r\\n\\t\\t\\t\\t\\t\\t\\r\\n\\t\\t\\t\\t\\t\\t\\t<a href=\"/myHigherEdJobs/Agent/savesearch.cfm?Remote=1&Keyword=chinese%20or%20asian&PosType=1&InstType=1&JobCat=152,131,82,76,157,204,97&Region=0&SubRegions=&Metros=&OnlyTitle=0&expand=1&\" id=\"js-SaveSearch\" class=\"btn btn-green margin-sm-bottom\">Create A Job Agent</a>\\r\\n\\t\\t\\t\\t\\t\\t\\r\\n\\t\\t\\t\\t\\t\\t\\t<a class=\"btn btn-yellow margin-sm-bottom\" href=\"/search/advanced.cfm?Remote=1&Keyword=chinese%20or%20asian&PosType=1&InstType=1&JobCat=152,131,82,76,157,204,97&Region=0&SubRegions=&Metros=&OnlyTitle=0&expand=1&\">\\r\\n\\t\\t\\t\\t\\t\\t\\t\\t\\r\\n\\t\\t\\t\\t\\t\\t\\t\\t\\tExpand Search \\r\\n\\t\\t\\t\\t\\t\\t\\t</a>\\r\\n\\t\\t\\t\\t\\t\\t\\r\\n\\t\\t\\t\\t\\t</div>\\r\\n\\t\\t\\t\\t\\r\\n\\r\\n\\r\\n\\t\\t\\t<div class=\"js-overview-wrapper\">\\r\\n\\r\\n\\t\\t\\t\\t\\r\\n\\t\\t\\t\\t\\t\\r\\n\\t\\t\\t\\t\\t<input type=\"hidden\" name=\"StartRow\" id=\"StartRow\" value=\"-1\">\\r\\n\\r\\n\\t\\t\\t\\t\\t<div class=\"js-actionform overview-actions row\">\\r\\n\\t\\t\\t\\t\\t\\t<div class=\"col-sm-4 margin-xs-bottom\">\\r\\n\\t\\t\\t\\t\\t\\t\\tSort by:\\r\\n\\t\\t\\t\\t\\t\\t\\t<span class=\"open-select\">\\r\\n\\t\\t\\t\\t\\t\\t\\t\\t<select class=\"js-SortBy js-change-submit\" name=\"SortBy\">\\r\\n\\t\\t\\t\\t\\t\\t\\t\\t\\t<option value=\"4\" selected>Priority</option>\\r\\n\\t\\t\\t\\t\\t\\t\\t\\t\\t<option value=\"1\" selected>Date Posted</option>\\r\\n\\t\\t\\t\\t\\t\\t\\t\\t\\t<option value=\"2\" >Institution</option>\\r\\n\\t\\t\\t\\t\\t\\t\\t\\t\\t<option value=\"3\" >Location</option>\\r\\n\\t\\t\\t\\t\\t\\t\\t\\t\\t<option value=\"5\" >Job Title</option>\\r\\n\\t\\t\\t\\t\\t\\t\\t\\t\\t<option value=\"6\" >Category</option>\\r\\n\\t\\t\\t\\t\\t\\t\\t\\t</select>\\r\\n\\t\\t\\t\\t\\t\\t\\t</span>\\r\\n\\t\\t\\t\\t\\t\\t</div>\\r\\n\\t\\t\\t\\t\\t\\t<div class=\"col-sm-3 margin-xs-bottom\">\\r\\n\\t\\t\\t\\t\\t\\t\\tDisplay:\\r\\n\\t\\t\\t\\t\\t\\t\\t<span class=\"open-select\">\\r\\n\\t\\t\\t\\t\\t\\t\\t\\t<select class=\"js-PageCount js-change-submit\" name=\"NumJobs\" >\\r\\n\\t\\t\\t\\t\\t\\t\\t\\t\\t<option value=\"25\" selected=\"selected\" >25</option>\\r\\n\\t\\t\\t\\t\\t\\t\\t\\t\\t<option value=\"50\"  >50</option>\\r\\n\\t\\t\\t\\t\\t\\t\\t\\t\\t<option value=\"100\"  >100</option>\\r\\n\\t\\t\\t\\t\\t\\t\\t\\t</select>\\r\\n\\t\\t\\t\\t\\t\\t\\t</span>\\r\\n\\t\\t\\t\\t\\t\\t</div>\\r\\n\\t\\t\\t\\t\\t\\t<div class=\"col-sm-5 text-sm-right\">\\r\\n\\t\\t\\t\\t\\t\\t\\t<noscript>\\r\\n\\t\\t\\t\\t\\t\\t\\t\\t<button type=\"submit\" class=\"btn btn-green btn-xs no-js-submit\">Re-Sort</button>\\r\\n\\t\\t\\t\\t\\t\\t\\t</noscript>\\r\\n\\t\\t\\t\\t\\t\\t\\t\\r\\n\\t\\t<span class=\"text-nowrap\">\\r\\n\\t\\t\\tResults <strong>1</strong> - <strong>25</strong> of <strong>49</strong>\\r\\n\\t\\t\\t<span class=\"overview-nav\">\\r\\n\\t\\t\\t\\t\\r\\n\\t\\t\\t\\t\\t<img src=\\'/assets/hej/img/elements/disabled-left.gif\\' class=\"disabled\" width=\\'10\\' height=\\'14\\' />\\r\\n\\t\\t\\t\\t\\r\\n\\t\\t\\t\\t\\t<a class=\"js-click-submit\" js-start-row=\"26\" href=\"advanced_action.cfm?Remote=1&Keyword=chinese%20or%20asian&PosType=1&InstType=1&JobCat=152,131,82,76,157,204,97&Region=0&SubRegions=&Metros=&OnlyTitle=0&StartRow=26&SortBy=1\"> <img src=\\'/assets/hej/img/elements/active-right.gif\\' width=\\'10\\' height=\\'14\\' /> </a>\\r\\n\\t\\t\\t\\t\\r\\n\\t\\t\\t</span>\\r\\n\\t\\t</span>\\r\\n\\t\\r\\n\\t\\t\\t\\t\\t\\t</div>\\r\\n\\t\\t\\t\\t\\t</div>\\r\\n\\t\\t\\t\\t\\r\\n\\r\\n\\r\\n\\t\\t\\t\\t<div id=\"js-results\" class=\"overview-records striped\">\\r\\n\\t\\t\\t\\t\\t\\r\\n\\t\\t\\t\\t\\t\\r\\n\\r\\n\\t\\t\\t\\t\\t\\t\\t\\t<div class=\"row record\">\\r\\n\\t\\t\\t\\t\\t\\t\\t\\t\\t<div class=\"col-sm-7\">\\r\\n\\t\\t\\t\\t\\t\\t\\t\\t\\t\\t<a href=\"details.cfm?JobCode=177574477&Title=Postdoctoral%20Fellow%20%2D%20East%20Asia%3B%20Asian%20Cinema%20or%20Media%20Studies\">\\r\\n\\t\\t\\t\\t\\t\\t\\t\\t\\t\\t\\tPostdoctoral Fellow - East Asia; Asian Cinema or Media Studies</a>\\r\\n\\t\\t\\t\\t\\t\\t\\t\\t\\t\\t<br>\\r\\n\\t\\t\\t\\t\\t\\t\\t\\t\\t\\tUniversity of Idaho <br>\\r\\n\\t\\t\\t\\t\\t\\t\\t\\t\\t\\t\\tMoscow, ID \\r\\n\\t\\t\\t\\t\\t\\t\\t\\t\\t</div>\\r\\n\\t\\t\\t\\t\\t\\t\\t\\t\\t<div class=\"col-sm-5 text-sm-right\">\\r\\n\\t\\t\\t\\t\\t\\t\\t\\t\\t\\t\\r\\n\\t\\t\\t\\t\\t\\t\\t\\t\\t\\tEthnic and Multicultural Studies \\r\\n\\t\\t\\t\\t\\t\\t\\t\\t\\t\\t\\t<br> Posted 08/09/21<br>\\r\\n\\t\\t\\t\\t\\t\\t\\t\\t\\t\\t\\r\\n\\t\\t\\t\\t\\t\\t\\t\\t\\t</div>\\r\\n\\t\\t\\t\\t\\t\\t\\t\\t\\t\\r\\n\\t\\t\\t\\t\\t\\t\\t\\t</div>\\r\\n\\t\\t\\t\\t\\t\\t\\t\\t\\r\\n\\t\\t\\t\\t\\t\\t\\t\\t\\r\\n\\r\\n\\t\\t\\t\\t\\t\\t\\t\\t<div class=\"row record\">\\r\\n\\t\\t\\t\\t\\t\\t\\t\\t\\t<div class=\"col-sm-7\">\\r\\n\\t\\t\\t\\t\\t\\t\\t\\t\\t\\t<a href=\"details.cfm?JobCode=177573385&Title=Tenure%2Dtrack%20Professor%2C%20English\">\\r\\n\\t\\t\\t\\t\\t\\t\\t\\t\\t\\t\\tTenure-track Professor, English</a>\\r\\n\\t\\t\\t\\t\\t\\t\\t\\t\\t\\t<br>\\r\\n\\t\\t\\t\\t\\t\\t\\t\\t\\t\\tUniversity of Chinese Academy of Sciences <br>\\r\\n\\t\\t\\t\\t\\t\\t\\t\\t\\t\\t\\tBeijing, China \\r\\n\\t\\t\\t\\t\\t\\t\\t\\t\\t</div>\\r\\n\\t\\t\\t\\t\\t\\t\\t\\t\\t<div class=\"col-sm-5 text-sm-right\">\\r\\n\\t\\t\\t\\t\\t\\t\\t\\t\\t\\t\\r\\n\\t\\t\\t\\t\\t\\t\\t\\t\\t\\tLinguistics \\r\\n\\t\\t\\t\\t\\t\\t\\t\\t\\t\\t\\t<br> Posted 08/09/21<br>\\r\\n\\t\\t\\t\\t\\t\\t\\t\\t\\t\\t\\r\\n\\t\\t\\t\\t\\t\\t\\t\\t\\t</div>\\r\\n\\t\\t\\t\\t\\t\\t\\t\\t\\t\\r\\n\\t\\t\\t\\t\\t\\t\\t\\t</div>\\r\\n\\t\\t\\t\\t\\t\\t\\t\\t\\r\\n\\t\\t\\t\\t\\t\\t\\t\\t\\r\\n\\r\\n\\t\\t\\t\\t\\t\\t\\t\\t<div class=\"row record\">\\r\\n\\t\\t\\t\\t\\t\\t\\t\\t\\t<div class=\"col-sm-7\">\\r\\n\\t\\t\\t\\t\\t\\t\\t\\t\\t\\t<a href=\"details.cfm?JobCode=177569856&Title=Term%20Faculty%20%28Non%2DTenure%20Track%29%20%2D%20Modern%20Languages%2FChinese%20Studies%20%2821%2D22%29\">\\r\\n\\t\\t\\t\\t\\t\\t\\t\\t\\t\\t\\tTerm Faculty (Non-Tenure Track) - Modern Languages/Chinese Studies (21-22)</a>\\r\\n\\t\\t\\t\\t\\t\\t\\t\\t\\t\\t<br>\\r\\n\\t\\t\\t\\t\\t\\t\\t\\t\\t\\tDePaul University <br>\\r\\n\\t\\t\\t\\t\\t\\t\\t\\t\\t\\t\\tChicago, IL \\r\\n\\t\\t\\t\\t\\t\\t\\t\\t\\t</div>\\r\\n\\t\\t\\t\\t\\t\\t\\t\\t\\t<div class=\"col-sm-5 text-sm-right\">\\r\\n\\t\\t\\t\\t\\t\\t\\t\\t\\t\\t\\r\\n\\t\\t\\t\\t\\t\\t\\t\\t\\t\\tForeign Languages and Literatures \\r\\n\\t\\t\\t\\t\\t\\t\\t\\t\\t\\t\\t<br> Posted 08/04/21<br>\\r\\n\\t\\t\\t\\t\\t\\t\\t\\t\\t\\t\\r\\n\\t\\t\\t\\t\\t\\t\\t\\t\\t</div>\\r\\n\\t\\t\\t\\t\\t\\t\\t\\t\\t\\r\\n\\t\\t\\t\\t\\t\\t\\t\\t</div>\\r\\n\\t\\t\\t\\t\\t\\t\\t\\t\\r\\n\\t\\t\\t\\t\\t\\t\\t\\t\\r\\n\\r\\n\\t\\t\\t\\t\\t\\t\\t\\t<div class=\"row record\">\\r\\n\\t\\t\\t\\t\\t\\t\\t\\t\\t<div class=\"col-sm-7\">\\r\\n\\t\\t\\t\\t\\t\\t\\t\\t\\t\\t<a href=\"details.cfm?JobCode=177568868&Title=Assistant%2FAssociate%20Professor%20of%20Asian%20History\">\\r\\n\\t\\t\\t\\t\\t\\t\\t\\t\\t\\t\\tAssistant/Associate Professor of Asian History</a>\\r\\n\\t\\t\\t\\t\\t\\t\\t\\t\\t\\t<br>\\r\\n\\t\\t\\t\\t\\t\\t\\t\\t\\t\\tAlabama A&amp;M University <br>\\r\\n\\t\\t\\t\\t\\t\\t\\t\\t\\t\\t\\tNormal, AL \\r\\n\\t\\t\\t\\t\\t\\t\\t\\t\\t</div>\\r\\n\\t\\t\\t\\t\\t\\t\\t\\t\\t<div class=\"col-sm-5 text-sm-right\">\\r\\n\\t\\t\\t\\t\\t\\t\\t\\t\\t\\t\\r\\n\\t\\t\\t\\t\\t\\t\\t\\t\\t\\tHistory \\r\\n\\t\\t\\t\\t\\t\\t\\t\\t\\t\\t\\t<br> Posted 08/04/21<br>\\r\\n\\t\\t\\t\\t\\t\\t\\t\\t\\t\\t\\r\\n\\t\\t\\t\\t\\t\\t\\t\\t\\t</div>\\r\\n\\t\\t\\t\\t\\t\\t\\t\\t\\t\\r\\n\\t\\t\\t\\t\\t\\t\\t\\t</div>\\r\\n\\t\\t\\t\\t\\t\\t\\t\\t\\r\\n\\t\\t\\t\\t\\t\\t\\t\\t\\r\\n\\r\\n\\t\\t\\t\\t\\t\\t\\t\\t<div class=\"row record\">\\r\\n\\t\\t\\t\\t\\t\\t\\t\\t\\t<div class=\"col-sm-7\">\\r\\n\\t\\t\\t\\t\\t\\t\\t\\t\\t\\t<a href=\"details.cfm?JobCode=177564150&Title=Lecturer%20in%20the%20East%20Asian%20Languages%20and%20Cultural%20Studies%20Department\">\\r\\n\\t\\t\\t\\t\\t\\t\\t\\t\\t\\t\\tLecturer in the East Asian Languages and Cultural Studies Department</a>\\r\\n\\t\\t\\t\\t\\t\\t\\t\\t\\t\\t<br>\\r\\n\\t\\t\\t\\t\\t\\t\\t\\t\\t\\tUniversity of California, Santa Barbara <br>\\r\\n\\t\\t\\t\\t\\t\\t\\t\\t\\t\\t\\tSanta Barbara, CA \\r\\n\\t\\t\\t\\t\\t\\t\\t\\t\\t</div>\\r\\n\\t\\t\\t\\t\\t\\t\\t\\t\\t<div class=\"col-sm-5 text-sm-right\">\\r\\n\\t\\t\\t\\t\\t\\t\\t\\t\\t\\t\\r\\n\\t\\t\\t\\t\\t\\t\\t\\t\\t\\tForeign Languages and Literatures \\r\\n\\t\\t\\t\\t\\t\\t\\t\\t\\t\\t\\t<br> Posted 07/29/21<br>\\r\\n\\t\\t\\t\\t\\t\\t\\t\\t\\t\\t\\r\\n\\t\\t\\t\\t\\t\\t\\t\\t\\t</div>\\r\\n\\t\\t\\t\\t\\t\\t\\t\\t\\t\\r\\n\\t\\t\\t\\t\\t\\t\\t\\t</div>\\r\\n\\t\\t\\t\\t\\t\\t\\t\\t\\r\\n\\t\\t\\t\\t\\t\\t\\t\\t\\r\\n\\r\\n\\t\\t\\t\\t\\t\\t\\t\\t<div class=\"row record\">\\r\\n\\t\\t\\t\\t\\t\\t\\t\\t\\t<div class=\"col-sm-7\">\\r\\n\\t\\t\\t\\t\\t\\t\\t\\t\\t\\t<a href=\"details.cfm?JobCode=177563937&Title=Assistant%20Professor%20of%20Composition%20and%20Rhetoric\">\\r\\n\\t\\t\\t\\t\\t\\t\\t\\t\\t\\t\\tAssistant Professor of Composition and Rhetoric</a>\\r\\n\\t\\t\\t\\t\\t\\t\\t\\t\\t\\t<br>\\r\\n\\t\\t\\t\\t\\t\\t\\t\\t\\t\\tCalifornia State University, Fullerton <br>\\r\\n\\t\\t\\t\\t\\t\\t\\t\\t\\t\\t\\tFullerton, CA \\r\\n\\t\\t\\t\\t\\t\\t\\t\\t\\t</div>\\r\\n\\t\\t\\t\\t\\t\\t\\t\\t\\t<div class=\"col-sm-5 text-sm-right\">\\r\\n\\t\\t\\t\\t\\t\\t\\t\\t\\t\\t\\r\\n\\t\\t\\t\\t\\t\\t\\t\\t\\t\\tEnglish and Literature \\r\\n\\t\\t\\t\\t\\t\\t\\t\\t\\t\\t\\t<br> Posted 07/29/21<br>\\r\\n\\t\\t\\t\\t\\t\\t\\t\\t\\t\\t\\r\\n\\t\\t\\t\\t\\t\\t\\t\\t\\t</div>\\r\\n\\t\\t\\t\\t\\t\\t\\t\\t\\t\\r\\n\\t\\t\\t\\t\\t\\t\\t\\t</div>\\r\\n\\t\\t\\t\\t\\t\\t\\t\\t\\r\\n\\t\\t\\t\\t\\t\\t\\t\\t\\r\\n\\r\\n\\t\\t\\t\\t\\t\\t\\t\\t<div class=\"row record\">\\r\\n\\t\\t\\t\\t\\t\\t\\t\\t\\t<div class=\"col-sm-7\">\\r\\n\\t\\t\\t\\t\\t\\t\\t\\t\\t\\t<a href=\"details.cfm?JobCode=177561277&Title=Assistant%20Professor%20%2D%20Sanskrit%20Studies%20%2D%20South%20and%20Southeast%20Asian%20Studies\">\\r\\n\\t\\t\\t\\t\\t\\t\\t\\t\\t\\t\\tAssistant Professor - Sanskrit Studies - South and Southeast Asian Studies</a>\\r\\n\\t\\t\\t\\t\\t\\t\\t\\t\\t\\t<br>\\r\\n\\t\\t\\t\\t\\t\\t\\t\\t\\t\\tUniversity of California, Berkeley <br>\\r\\n\\t\\t\\t\\t\\t\\t\\t\\t\\t\\t\\tBerkeley, CA \\r\\n\\t\\t\\t\\t\\t\\t\\t\\t\\t</div>\\r\\n\\t\\t\\t\\t\\t\\t\\t\\t\\t<div class=\"col-sm-5 text-sm-right\">\\r\\n\\t\\t\\t\\t\\t\\t\\t\\t\\t\\t\\r\\n\\t\\t\\t\\t\\t\\t\\t\\t\\t\\tEthnic and Multicultural Studies \\r\\n\\t\\t\\t\\t\\t\\t\\t\\t\\t\\t\\t<br> Posted 07/27/21<br>\\r\\n\\t\\t\\t\\t\\t\\t\\t\\t\\t\\t\\r\\n\\t\\t\\t\\t\\t\\t\\t\\t\\t</div>\\r\\n\\t\\t\\t\\t\\t\\t\\t\\t\\t\\r\\n\\t\\t\\t\\t\\t\\t\\t\\t</div>\\r\\n\\t\\t\\t\\t\\t\\t\\t\\t\\r\\n\\t\\t\\t\\t\\t\\t\\t\\t\\r\\n\\r\\n\\t\\t\\t\\t\\t\\t\\t\\t<div class=\"row record\">\\r\\n\\t\\t\\t\\t\\t\\t\\t\\t\\t<div class=\"col-sm-7\">\\r\\n\\t\\t\\t\\t\\t\\t\\t\\t\\t\\t<a href=\"details.cfm?JobCode=177558113&Title=Lecturer%20in%20Chinese%20%28Fall%202021%29\">\\r\\n\\t\\t\\t\\t\\t\\t\\t\\t\\t\\t\\tLecturer in Chinese (Fall 2021)</a>\\r\\n\\t\\t\\t\\t\\t\\t\\t\\t\\t\\t<br>\\r\\n\\t\\t\\t\\t\\t\\t\\t\\t\\t\\tUniversity of North Georgia <br>\\r\\n\\t\\t\\t\\t\\t\\t\\t\\t\\t\\t\\tDahlonega, GA \\r\\n\\t\\t\\t\\t\\t\\t\\t\\t\\t</div>\\r\\n\\t\\t\\t\\t\\t\\t\\t\\t\\t<div class=\"col-sm-5 text-sm-right\">\\r\\n\\t\\t\\t\\t\\t\\t\\t\\t\\t\\t\\r\\n\\t\\t\\t\\t\\t\\t\\t\\t\\t\\tForeign Languages and Literatures \\r\\n\\t\\t\\t\\t\\t\\t\\t\\t\\t\\t\\t<br> Posted 07/23/21<br>\\r\\n\\t\\t\\t\\t\\t\\t\\t\\t\\t\\t\\r\\n\\t\\t\\t\\t\\t\\t\\t\\t\\t</div>\\r\\n\\t\\t\\t\\t\\t\\t\\t\\t\\t\\r\\n\\t\\t\\t\\t\\t\\t\\t\\t</div>\\r\\n\\t\\t\\t\\t\\t\\t\\t\\t\\r\\n\\t\\t\\t\\t\\t\\t\\t\\t\\r\\n\\r\\n\\t\\t\\t\\t\\t\\t\\t\\t<div class=\"row record\">\\r\\n\\t\\t\\t\\t\\t\\t\\t\\t\\t<div class=\"col-sm-7\">\\r\\n\\t\\t\\t\\t\\t\\t\\t\\t\\t\\t<a href=\"details.cfm?JobCode=177553609&Title=Tenure%2Dtrack%20Professor%20in%20Modern%20Korean%20Humanities\">\\r\\n\\t\\t\\t\\t\\t\\t\\t\\t\\t\\t\\tTenure-track Professor in Modern Korean Humanities</a>\\r\\n\\t\\t\\t\\t\\t\\t\\t\\t\\t\\t<br>\\r\\n\\t\\t\\t\\t\\t\\t\\t\\t\\t\\tHarvard University <br>\\r\\n\\t\\t\\t\\t\\t\\t\\t\\t\\t\\t\\tCambridge, MA \\r\\n\\t\\t\\t\\t\\t\\t\\t\\t\\t</div>\\r\\n\\t\\t\\t\\t\\t\\t\\t\\t\\t<div class=\"col-sm-5 text-sm-right\">\\r\\n\\t\\t\\t\\t\\t\\t\\t\\t\\t\\t\\r\\n\\t\\t\\t\\t\\t\\t\\t\\t\\t\\tForeign Languages and Literatures \\r\\n\\t\\t\\t\\t\\t\\t\\t\\t\\t\\t\\t<br> Posted 07/21/21<br>\\r\\n\\t\\t\\t\\t\\t\\t\\t\\t\\t\\t\\r\\n\\t\\t\\t\\t\\t\\t\\t\\t\\t</div>\\r\\n\\t\\t\\t\\t\\t\\t\\t\\t\\t\\r\\n\\t\\t\\t\\t\\t\\t\\t\\t\\t\\t<div class=\"clearfix\"></div>\\r\\n\\t\\t\\t\\t\\t\\t\\t\\t\\t\\t<div class=\"col-sm-12\">\\r\\n\\t\\t\\t\\t\\t\\t\\t\\t\\t\\t\\t\\r\\n\\t\\t\\t\\t\\t\\t\\t\\t\\t\\t\\t\\t<span class=\\'addon-marker\\'>\\r\\n\\t\\t\\t\\t\\t\\t\\t\\t\\t\\t\\t\\t\\t<img src=\"/assets/hej/img/icons/job-military.png\" data-toggle=\"tooltip\" title=\"Employer actively encourages applications from military-connected professionals\">\\r\\n\\t\\t\\t\\t\\t\\t\\t\\t\\t\\t\\t\\t\\t<span>Military</span>\\r\\n\\t\\t\\t\\t\\t\\t\\t\\t\\t\\t\\t\\t</span>\\r\\n\\t\\t\\t\\t\\t\\t\\t\\t\\t\\t\\t\\r\\n\\t\\t\\t\\t\\t\\t\\t\\t\\t\\t</div>\\r\\n\\t\\t\\t\\t\\t\\t\\t\\t\\t\\r\\n\\t\\t\\t\\t\\t\\t\\t\\t</div>\\r\\n\\t\\t\\t\\t\\t\\t\\t\\t\\r\\n\\t\\t\\t\\t\\t\\t\\t\\t\\r\\n\\r\\n\\t\\t\\t\\t\\t\\t\\t\\t<div class=\"row record\">\\r\\n\\t\\t\\t\\t\\t\\t\\t\\t\\t<div class=\"col-sm-7\">\\r\\n\\t\\t\\t\\t\\t\\t\\t\\t\\t\\t<a href=\"details.cfm?JobCode=177552894&Title=%5BC21%2D058SP%5D%20%20Assistant%20Professor%20of%20Spanish\">\\r\\n\\t\\t\\t\\t\\t\\t\\t\\t\\t\\t\\t[C21-058SP]  Assistant Professor of Spanish</a>\\r\\n\\t\\t\\t\\t\\t\\t\\t\\t\\t\\t<br>\\r\\n\\t\\t\\t\\t\\t\\t\\t\\t\\t\\tCentral Connecticut State University <br>\\r\\n\\t\\t\\t\\t\\t\\t\\t\\t\\t\\t\\tNew Britain, CT \\r\\n\\t\\t\\t\\t\\t\\t\\t\\t\\t</div>\\r\\n\\t\\t\\t\\t\\t\\t\\t\\t\\t<div class=\"col-sm-5 text-sm-right\">\\r\\n\\t\\t\\t\\t\\t\\t\\t\\t\\t\\t\\r\\n\\t\\t\\t\\t\\t\\t\\t\\t\\t\\tForeign Languages and Literatures \\r\\n\\t\\t\\t\\t\\t\\t\\t\\t\\t\\t\\t<br> Posted 07/20/21<br>\\r\\n\\t\\t\\t\\t\\t\\t\\t\\t\\t\\t\\r\\n\\t\\t\\t\\t\\t\\t\\t\\t\\t</div>\\r\\n\\t\\t\\t\\t\\t\\t\\t\\t\\t\\r\\n\\t\\t\\t\\t\\t\\t\\t\\t</div>\\r\\n\\t\\t\\t\\t\\t\\t\\t\\t\\r\\n\\t\\t\\t\\t\\t\\t\\t\\t\\r\\n\\r\\n\\t\\t\\t\\t\\t\\t\\t\\t<div class=\"row record\">\\r\\n\\t\\t\\t\\t\\t\\t\\t\\t\\t<div class=\"col-sm-7\">\\r\\n\\t\\t\\t\\t\\t\\t\\t\\t\\t\\t<a href=\"details.cfm?JobCode=177552700&Title=East%20Asian%20Languages%20and%20Cultures%20Visiting%20Lecturer%20in%20Japanese\">\\r\\n\\t\\t\\t\\t\\t\\t\\t\\t\\t\\t\\tEast Asian Languages and Cultures Visiting Lecturer in Japanese</a>\\r\\n\\t\\t\\t\\t\\t\\t\\t\\t\\t\\t<br>\\r\\n\\t\\t\\t\\t\\t\\t\\t\\t\\t\\tUniversity of Notre Dame <br>\\r\\n\\t\\t\\t\\t\\t\\t\\t\\t\\t\\t\\tNotre Dame, IN \\r\\n\\t\\t\\t\\t\\t\\t\\t\\t\\t</div>\\r\\n\\t\\t\\t\\t\\t\\t\\t\\t\\t<div class=\"col-sm-5 text-sm-right\">\\r\\n\\t\\t\\t\\t\\t\\t\\t\\t\\t\\t\\r\\n\\t\\t\\t\\t\\t\\t\\t\\t\\t\\tForeign Languages and Literatures \\r\\n\\t\\t\\t\\t\\t\\t\\t\\t\\t\\t\\t<br> Posted 07/20/21<br>\\r\\n\\t\\t\\t\\t\\t\\t\\t\\t\\t\\t\\r\\n\\t\\t\\t\\t\\t\\t\\t\\t\\t</div>\\r\\n\\t\\t\\t\\t\\t\\t\\t\\t\\t\\r\\n\\t\\t\\t\\t\\t\\t\\t\\t</div>\\r\\n\\t\\t\\t\\t\\t\\t\\t\\t\\r\\n\\t\\t\\t\\t\\t\\t\\t\\t\\r\\n\\r\\n\\t\\t\\t\\t\\t\\t\\t\\t<div class=\"row record\">\\r\\n\\t\\t\\t\\t\\t\\t\\t\\t\\t<div class=\"col-sm-7\">\\r\\n\\t\\t\\t\\t\\t\\t\\t\\t\\t\\t<a href=\"details.cfm?JobCode=177552652&Title=Post%2Ddoctoral%20Fellow\">\\r\\n\\t\\t\\t\\t\\t\\t\\t\\t\\t\\t\\tPost-doctoral Fellow</a>\\r\\n\\t\\t\\t\\t\\t\\t\\t\\t\\t\\t<br>\\r\\n\\t\\t\\t\\t\\t\\t\\t\\t\\t\\tUniversity of Hong Kong <br>\\r\\n\\t\\t\\t\\t\\t\\t\\t\\t\\t\\t\\tHong Kong, Hong Kong \\r\\n\\t\\t\\t\\t\\t\\t\\t\\t\\t</div>\\r\\n\\t\\t\\t\\t\\t\\t\\t\\t\\t<div class=\"col-sm-5 text-sm-right\">\\r\\n\\t\\t\\t\\t\\t\\t\\t\\t\\t\\t\\r\\n\\t\\t\\t\\t\\t\\t\\t\\t\\t\\tPsychology \\r\\n\\t\\t\\t\\t\\t\\t\\t\\t\\t\\t\\t<br> Posted 07/20/21<br>\\r\\n\\t\\t\\t\\t\\t\\t\\t\\t\\t\\t\\r\\n\\t\\t\\t\\t\\t\\t\\t\\t\\t</div>\\r\\n\\t\\t\\t\\t\\t\\t\\t\\t\\t\\r\\n\\t\\t\\t\\t\\t\\t\\t\\t</div>\\r\\n\\t\\t\\t\\t\\t\\t\\t\\t\\r\\n\\t\\t\\t\\t\\t\\t\\t\\t\\r\\n\\r\\n\\t\\t\\t\\t\\t\\t\\t\\t<div class=\"row record\">\\r\\n\\t\\t\\t\\t\\t\\t\\t\\t\\t<div class=\"col-sm-7\">\\r\\n\\t\\t\\t\\t\\t\\t\\t\\t\\t\\t<a href=\"details.cfm?JobCode=177548791&Title=Professor%20%2D%20Modern%20Chinese%20Literature\">\\r\\n\\t\\t\\t\\t\\t\\t\\t\\t\\t\\t\\tProfessor - Modern Chinese Literature</a>\\r\\n\\t\\t\\t\\t\\t\\t\\t\\t\\t\\t<br>\\r\\n\\t\\t\\t\\t\\t\\t\\t\\t\\t\\tUniversity of Michigan <br>\\r\\n\\t\\t\\t\\t\\t\\t\\t\\t\\t\\t\\tAnn Arbor, MI \\r\\n\\t\\t\\t\\t\\t\\t\\t\\t\\t</div>\\r\\n\\t\\t\\t\\t\\t\\t\\t\\t\\t<div class=\"col-sm-5 text-sm-right\">\\r\\n\\t\\t\\t\\t\\t\\t\\t\\t\\t\\t\\r\\n\\t\\t\\t\\t\\t\\t\\t\\t\\t\\tForeign Languages and Literatures \\r\\n\\t\\t\\t\\t\\t\\t\\t\\t\\t\\t\\t<br> Posted 07/16/21<br>\\r\\n\\t\\t\\t\\t\\t\\t\\t\\t\\t\\t\\r\\n\\t\\t\\t\\t\\t\\t\\t\\t\\t</div>\\r\\n\\t\\t\\t\\t\\t\\t\\t\\t\\t\\r\\n\\t\\t\\t\\t\\t\\t\\t\\t</div>\\r\\n\\t\\t\\t\\t\\t\\t\\t\\t\\r\\n\\t\\t\\t\\t\\t\\t\\t\\t\\r\\n\\r\\n\\t\\t\\t\\t\\t\\t\\t\\t<div class=\"row record\">\\r\\n\\t\\t\\t\\t\\t\\t\\t\\t\\t<div class=\"col-sm-7\">\\r\\n\\t\\t\\t\\t\\t\\t\\t\\t\\t\\t<a href=\"details.cfm?JobCode=177548136&Title=Chinese%2C%20Assistant%20Professor%2Din%2DResidence%2C%20World%20Languages%20and%20Cultures%2C%20College%20of%20Liberal%20Arts%20%5BR0125486%5D\">\\r\\n\\t\\t\\t\\t\\t\\t\\t\\t\\t\\t\\tChinese, Assistant Professor-in-Residence, World Languages and Cultures, College of Liberal Arts [R0125486]</a>\\r\\n\\t\\t\\t\\t\\t\\t\\t\\t\\t\\t<br>\\r\\n\\t\\t\\t\\t\\t\\t\\t\\t\\t\\tUniversity of Nevada Las Vegas <br>\\r\\n\\t\\t\\t\\t\\t\\t\\t\\t\\t\\t\\tLas Vegas, NV \\r\\n\\t\\t\\t\\t\\t\\t\\t\\t\\t</div>\\r\\n\\t\\t\\t\\t\\t\\t\\t\\t\\t<div class=\"col-sm-5 text-sm-right\">\\r\\n\\t\\t\\t\\t\\t\\t\\t\\t\\t\\t\\r\\n\\t\\t\\t\\t\\t\\t\\t\\t\\t\\tForeign Languages and Literatures \\r\\n\\t\\t\\t\\t\\t\\t\\t\\t\\t\\t\\t<br> Posted 07/15/21<br>\\r\\n\\t\\t\\t\\t\\t\\t\\t\\t\\t\\t\\r\\n\\t\\t\\t\\t\\t\\t\\t\\t\\t</div>\\r\\n\\t\\t\\t\\t\\t\\t\\t\\t\\t\\r\\n\\t\\t\\t\\t\\t\\t\\t\\t</div>\\r\\n\\t\\t\\t\\t\\t\\t\\t\\t\\r\\n\\t\\t\\t\\t\\t\\t\\t\\t\\r\\n\\r\\n\\t\\t\\t\\t\\t\\t\\t\\t<div class=\"row record\">\\r\\n\\t\\t\\t\\t\\t\\t\\t\\t\\t<div class=\"col-sm-7\">\\r\\n\\t\\t\\t\\t\\t\\t\\t\\t\\t\\t<a href=\"details.cfm?JobCode=177545484&Title=Assistant%20Professor%2C%20Department%20of%20Literature%20and%20Cultural%20Studies%20%28Ref%3A%20AsstProf%2FLCS%2F0721%29\">\\r\\n\\t\\t\\t\\t\\t\\t\\t\\t\\t\\t\\tAssistant Professor, Department of Literature and Cultural Studies (Ref: AsstProf/LCS/0721)</a>\\r\\n\\t\\t\\t\\t\\t\\t\\t\\t\\t\\t<br>\\r\\n\\t\\t\\t\\t\\t\\t\\t\\t\\t\\tThe Education University of Hong Kong (EdUHK) <br>\\r\\n\\t\\t\\t\\t\\t\\t\\t\\t\\t\\t\\tHong Kong, Hong Kong \\r\\n\\t\\t\\t\\t\\t\\t\\t\\t\\t</div>\\r\\n\\t\\t\\t\\t\\t\\t\\t\\t\\t<div class=\"col-sm-5 text-sm-right\">\\r\\n\\t\\t\\t\\t\\t\\t\\t\\t\\t\\t\\r\\n\\t\\t\\t\\t\\t\\t\\t\\t\\t\\tForeign Languages and Literatures \\r\\n\\t\\t\\t\\t\\t\\t\\t\\t\\t\\t\\t<br> Posted 07/14/21<br>\\r\\n\\t\\t\\t\\t\\t\\t\\t\\t\\t\\t\\r\\n\\t\\t\\t\\t\\t\\t\\t\\t\\t</div>\\r\\n\\t\\t\\t\\t\\t\\t\\t\\t\\t\\r\\n\\t\\t\\t\\t\\t\\t\\t\\t</div>\\r\\n\\t\\t\\t\\t\\t\\t\\t\\t\\r\\n\\t\\t\\t\\t\\t\\t\\t\\t\\r\\n\\r\\n\\t\\t\\t\\t\\t\\t\\t\\t<div class=\"row record\">\\r\\n\\t\\t\\t\\t\\t\\t\\t\\t\\t<div class=\"col-sm-7\">\\r\\n\\t\\t\\t\\t\\t\\t\\t\\t\\t\\t<a href=\"details.cfm?JobCode=177541186&Title=Full%2DTime%20International%20Faculty%20Position%20%2D%20English%20Composition\">\\r\\n\\t\\t\\t\\t\\t\\t\\t\\t\\t\\t\\tFull-Time International Faculty Position - English Composition</a>\\r\\n\\t\\t\\t\\t\\t\\t\\t\\t\\t\\t<br>\\r\\n\\t\\t\\t\\t\\t\\t\\t\\t\\t\\tLiaoning Normal University <br>\\r\\n\\t\\t\\t\\t\\t\\t\\t\\t\\t\\t\\tDalian, China \\r\\n\\t\\t\\t\\t\\t\\t\\t\\t\\t</div>\\r\\n\\t\\t\\t\\t\\t\\t\\t\\t\\t<div class=\"col-sm-5 text-sm-right\">\\r\\n\\t\\t\\t\\t\\t\\t\\t\\t\\t\\t\\r\\n\\t\\t\\t\\t\\t\\t\\t\\t\\t\\tEnglish and Literature \\r\\n\\t\\t\\t\\t\\t\\t\\t\\t\\t\\t\\t<br> Posted 07/12/21<br>\\r\\n\\t\\t\\t\\t\\t\\t\\t\\t\\t\\t\\r\\n\\t\\t\\t\\t\\t\\t\\t\\t\\t</div>\\r\\n\\t\\t\\t\\t\\t\\t\\t\\t\\t\\r\\n\\t\\t\\t\\t\\t\\t\\t\\t</div>\\r\\n\\t\\t\\t\\t\\t\\t\\t\\t\\r\\n\\t\\t\\t\\t\\t\\t\\t\\t\\r\\n\\r\\n\\t\\t\\t\\t\\t\\t\\t\\t<div class=\"row record\">\\r\\n\\t\\t\\t\\t\\t\\t\\t\\t\\t<div class=\"col-sm-7\">\\r\\n\\t\\t\\t\\t\\t\\t\\t\\t\\t\\t<a href=\"details.cfm?JobCode=177537650&Title=Assistant%20Professor%20in%20Asian%20Diasporic%20literatures\">\\r\\n\\t\\t\\t\\t\\t\\t\\t\\t\\t\\t\\tAssistant Professor in Asian Diasporic literatures</a>\\r\\n\\t\\t\\t\\t\\t\\t\\t\\t\\t\\t<br>\\r\\n\\t\\t\\t\\t\\t\\t\\t\\t\\t\\tEmerson College <br>\\r\\n\\t\\t\\t\\t\\t\\t\\t\\t\\t\\t\\tBoston, MA \\r\\n\\t\\t\\t\\t\\t\\t\\t\\t\\t</div>\\r\\n\\t\\t\\t\\t\\t\\t\\t\\t\\t<div class=\"col-sm-5 text-sm-right\">\\r\\n\\t\\t\\t\\t\\t\\t\\t\\t\\t\\t\\r\\n\\t\\t\\t\\t\\t\\t\\t\\t\\t\\tForeign Languages and Literatures \\r\\n\\t\\t\\t\\t\\t\\t\\t\\t\\t\\t\\t<br> Posted 07/08/21<br>\\r\\n\\t\\t\\t\\t\\t\\t\\t\\t\\t\\t\\r\\n\\t\\t\\t\\t\\t\\t\\t\\t\\t</div>\\r\\n\\t\\t\\t\\t\\t\\t\\t\\t\\t\\r\\n\\t\\t\\t\\t\\t\\t\\t\\t</div>\\r\\n\\t\\t\\t\\t\\t\\t\\t\\t\\r\\n\\t\\t\\t\\t\\t\\t\\t\\t\\r\\n\\r\\n\\t\\t\\t\\t\\t\\t\\t\\t<div class=\"row record\">\\r\\n\\t\\t\\t\\t\\t\\t\\t\\t\\t<div class=\"col-sm-7\">\\r\\n\\t\\t\\t\\t\\t\\t\\t\\t\\t\\t<a href=\"details.cfm?JobCode=177482490&Title=Visiting%20Lecturer%20of%20Chinese%20Language\">\\r\\n\\t\\t\\t\\t\\t\\t\\t\\t\\t\\t\\tVisiting Lecturer of Chinese Language</a>\\r\\n\\t\\t\\t\\t\\t\\t\\t\\t\\t\\t<br>\\r\\n\\t\\t\\t\\t\\t\\t\\t\\t\\t\\tNew York University Abu Dhabi <br>\\r\\n\\t\\t\\t\\t\\t\\t\\t\\t\\t\\t\\tAbu Dhabi, United Arab Emirates \\r\\n\\t\\t\\t\\t\\t\\t\\t\\t\\t</div>\\r\\n\\t\\t\\t\\t\\t\\t\\t\\t\\t<div class=\"col-sm-5 text-sm-right\">\\r\\n\\t\\t\\t\\t\\t\\t\\t\\t\\t\\t\\r\\n\\t\\t\\t\\t\\t\\t\\t\\t\\t\\tForeign Languages and Literatures \\r\\n\\t\\t\\t\\t\\t\\t\\t\\t\\t\\t\\t<br> Posted 07/08/21<br>\\r\\n\\t\\t\\t\\t\\t\\t\\t\\t\\t\\t\\r\\n\\t\\t\\t\\t\\t\\t\\t\\t\\t</div>\\r\\n\\t\\t\\t\\t\\t\\t\\t\\t\\t\\r\\n\\t\\t\\t\\t\\t\\t\\t\\t</div>\\r\\n\\t\\t\\t\\t\\t\\t\\t\\t\\r\\n\\t\\t\\t\\t\\t\\t\\t\\t\\r\\n\\r\\n\\t\\t\\t\\t\\t\\t\\t\\t<div class=\"row record\">\\r\\n\\t\\t\\t\\t\\t\\t\\t\\t\\t<div class=\"col-sm-7\">\\r\\n\\t\\t\\t\\t\\t\\t\\t\\t\\t\\t<a href=\"details.cfm?JobCode=177536554&Title=Mandarin%20Speaking%20Clinician\">\\r\\n\\t\\t\\t\\t\\t\\t\\t\\t\\t\\t\\tMandarin Speaking Clinician</a>\\r\\n\\t\\t\\t\\t\\t\\t\\t\\t\\t\\t<br>\\r\\n\\t\\t\\t\\t\\t\\t\\t\\t\\t\\tUniversity of San Francisco <br>\\r\\n\\t\\t\\t\\t\\t\\t\\t\\t\\t\\t\\tSan Francisco, CA \\r\\n\\t\\t\\t\\t\\t\\t\\t\\t\\t</div>\\r\\n\\t\\t\\t\\t\\t\\t\\t\\t\\t<div class=\"col-sm-5 text-sm-right\">\\r\\n\\t\\t\\t\\t\\t\\t\\t\\t\\t\\t\\r\\n\\t\\t\\t\\t\\t\\t\\t\\t\\t\\tForeign Languages and Literatures \\r\\n\\t\\t\\t\\t\\t\\t\\t\\t\\t\\t\\t<br> Posted 07/07/21<br>\\r\\n\\t\\t\\t\\t\\t\\t\\t\\t\\t\\t\\r\\n\\t\\t\\t\\t\\t\\t\\t\\t\\t</div>\\r\\n\\t\\t\\t\\t\\t\\t\\t\\t\\t\\r\\n\\t\\t\\t\\t\\t\\t\\t\\t</div>\\r\\n\\t\\t\\t\\t\\t\\t\\t\\t\\r\\n\\t\\t\\t\\t\\t\\t\\t\\t\\r\\n\\r\\n\\t\\t\\t\\t\\t\\t\\t\\t<div class=\"row record\">\\r\\n\\t\\t\\t\\t\\t\\t\\t\\t\\t<div class=\"col-sm-7\">\\r\\n\\t\\t\\t\\t\\t\\t\\t\\t\\t\\t<a href=\"details.cfm?JobCode=177536787&Title=Assistant%20Professor%20with%20a%20focus%20on%20Central%20American%20Studies\">\\r\\n\\t\\t\\t\\t\\t\\t\\t\\t\\t\\t\\tAssistant Professor with a focus on Central American Studies</a>\\r\\n\\t\\t\\t\\t\\t\\t\\t\\t\\t\\t<br>\\r\\n\\t\\t\\t\\t\\t\\t\\t\\t\\t\\tCalifornia State University, Los Angeles <br>\\r\\n\\t\\t\\t\\t\\t\\t\\t\\t\\t\\t\\tLos Angeles, CA \\r\\n\\t\\t\\t\\t\\t\\t\\t\\t\\t</div>\\r\\n\\t\\t\\t\\t\\t\\t\\t\\t\\t<div class=\"col-sm-5 text-sm-right\">\\r\\n\\t\\t\\t\\t\\t\\t\\t\\t\\t\\t\\r\\n\\t\\t\\t\\t\\t\\t\\t\\t\\t\\tEthnic and Multicultural Studies \\r\\n\\t\\t\\t\\t\\t\\t\\t\\t\\t\\t\\t<br> Posted 07/07/21<br>\\r\\n\\t\\t\\t\\t\\t\\t\\t\\t\\t\\t\\r\\n\\t\\t\\t\\t\\t\\t\\t\\t\\t</div>\\r\\n\\t\\t\\t\\t\\t\\t\\t\\t\\t\\r\\n\\t\\t\\t\\t\\t\\t\\t\\t</div>\\r\\n\\t\\t\\t\\t\\t\\t\\t\\t\\r\\n\\t\\t\\t\\t\\t\\t\\t\\t\\r\\n\\r\\n\\t\\t\\t\\t\\t\\t\\t\\t<div class=\"row record\">\\r\\n\\t\\t\\t\\t\\t\\t\\t\\t\\t<div class=\"col-sm-7\">\\r\\n\\t\\t\\t\\t\\t\\t\\t\\t\\t\\t<a href=\"details.cfm?JobCode=177536479&Title=Assistant%20Professor%20of%20Pan%2DAfrican%20Studies%20with%20an%20emphasis%20on%20Political%20Science%2C%20Law%2C%20the%20US%20Constitution%2C%20and%20Race%2FPower\">\\r\\n\\t\\t\\t\\t\\t\\t\\t\\t\\t\\t\\tAssistant Professor of Pan-African Studies with an emphasis on Political Science, Law, the US Constitution, and Race/Power</a>\\r\\n\\t\\t\\t\\t\\t\\t\\t\\t\\t\\t<br>\\r\\n\\t\\t\\t\\t\\t\\t\\t\\t\\t\\tCalifornia State University, Los Angeles <br>\\r\\n\\t\\t\\t\\t\\t\\t\\t\\t\\t\\t\\tLos Angeles, CA \\r\\n\\t\\t\\t\\t\\t\\t\\t\\t\\t</div>\\r\\n\\t\\t\\t\\t\\t\\t\\t\\t\\t<div class=\"col-sm-5 text-sm-right\">\\r\\n\\t\\t\\t\\t\\t\\t\\t\\t\\t\\t\\r\\n\\t\\t\\t\\t\\t\\t\\t\\t\\t\\tEthnic and Multicultural Studies \\r\\n\\t\\t\\t\\t\\t\\t\\t\\t\\t\\t\\t<br> Posted 07/07/21<br>\\r\\n\\t\\t\\t\\t\\t\\t\\t\\t\\t\\t\\r\\n\\t\\t\\t\\t\\t\\t\\t\\t\\t</div>\\r\\n\\t\\t\\t\\t\\t\\t\\t\\t\\t\\r\\n\\t\\t\\t\\t\\t\\t\\t\\t</div>\\r\\n\\t\\t\\t\\t\\t\\t\\t\\t\\r\\n\\t\\t\\t\\t\\t\\t\\t\\t\\r\\n\\r\\n\\t\\t\\t\\t\\t\\t\\t\\t<div class=\"row record\">\\r\\n\\t\\t\\t\\t\\t\\t\\t\\t\\t<div class=\"col-sm-7\">\\r\\n\\t\\t\\t\\t\\t\\t\\t\\t\\t\\t<a href=\"details.cfm?JobCode=177534846&Title=Assistant%20Professor%2C%20Modern%20and%20Contemporary%20Art%20and%20Visual%20Culture%20of%20the%20Americas\">\\r\\n\\t\\t\\t\\t\\t\\t\\t\\t\\t\\t\\tAssistant Professor, Modern and Contemporary Art and Visual Culture of the Americas</a>\\r\\n\\t\\t\\t\\t\\t\\t\\t\\t\\t\\t<br>\\r\\n\\t\\t\\t\\t\\t\\t\\t\\t\\t\\tUniversity of Michigan <br>\\r\\n\\t\\t\\t\\t\\t\\t\\t\\t\\t\\t\\tAnn Arbor, MI \\r\\n\\t\\t\\t\\t\\t\\t\\t\\t\\t</div>\\r\\n\\t\\t\\t\\t\\t\\t\\t\\t\\t<div class=\"col-sm-5 text-sm-right\">\\r\\n\\t\\t\\t\\t\\t\\t\\t\\t\\t\\t\\r\\n\\t\\t\\t\\t\\t\\t\\t\\t\\t\\tArt \\r\\n\\t\\t\\t\\t\\t\\t\\t\\t\\t\\t\\t<br> Posted 07/06/21<br>\\r\\n\\t\\t\\t\\t\\t\\t\\t\\t\\t\\t\\r\\n\\t\\t\\t\\t\\t\\t\\t\\t\\t</div>\\r\\n\\t\\t\\t\\t\\t\\t\\t\\t\\t\\r\\n\\t\\t\\t\\t\\t\\t\\t\\t</div>\\r\\n\\t\\t\\t\\t\\t\\t\\t\\t\\r\\n\\t\\t\\t\\t\\t\\t\\t\\t\\r\\n\\r\\n\\t\\t\\t\\t\\t\\t\\t\\t<div class=\"row record\">\\r\\n\\t\\t\\t\\t\\t\\t\\t\\t\\t<div class=\"col-sm-7\">\\r\\n\\t\\t\\t\\t\\t\\t\\t\\t\\t\\t<a href=\"details.cfm?JobCode=177529527&Title=Assistant%20Professor%20of%20Production%20and%20Post%2DProduction\">\\r\\n\\t\\t\\t\\t\\t\\t\\t\\t\\t\\t\\tAssistant Professor of Production and Post-Production</a>\\r\\n\\t\\t\\t\\t\\t\\t\\t\\t\\t\\t<br>\\r\\n\\t\\t\\t\\t\\t\\t\\t\\t\\t\\tCalifornia State University, Los Angeles <br>\\r\\n\\t\\t\\t\\t\\t\\t\\t\\t\\t\\t\\tLos Angeles, CA \\r\\n\\t\\t\\t\\t\\t\\t\\t\\t\\t</div>\\r\\n\\t\\t\\t\\t\\t\\t\\t\\t\\t<div class=\"col-sm-5 text-sm-right\">\\r\\n\\t\\t\\t\\t\\t\\t\\t\\t\\t\\t\\r\\n\\t\\t\\t\\t\\t\\t\\t\\t\\t\\tRadio, Television, and Film \\r\\n\\t\\t\\t\\t\\t\\t\\t\\t\\t\\t\\t<br> Posted 06/29/21<br>\\r\\n\\t\\t\\t\\t\\t\\t\\t\\t\\t\\t\\r\\n\\t\\t\\t\\t\\t\\t\\t\\t\\t</div>\\r\\n\\t\\t\\t\\t\\t\\t\\t\\t\\t\\r\\n\\t\\t\\t\\t\\t\\t\\t\\t</div>\\r\\n\\t\\t\\t\\t\\t\\t\\t\\t\\r\\n\\t\\t\\t\\t\\t\\t\\t\\t\\r\\n\\r\\n\\t\\t\\t\\t\\t\\t\\t\\t<div class=\"row record\">\\r\\n\\t\\t\\t\\t\\t\\t\\t\\t\\t<div class=\"col-sm-7\">\\r\\n\\t\\t\\t\\t\\t\\t\\t\\t\\t\\t<a href=\"details.cfm?JobCode=177520931&Title=Lecturer%2C%20World%20Languages%20and%20Literatures\">\\r\\n\\t\\t\\t\\t\\t\\t\\t\\t\\t\\t\\tLecturer, World Languages and Literatures</a>\\r\\n\\t\\t\\t\\t\\t\\t\\t\\t\\t\\t<br>\\r\\n\\t\\t\\t\\t\\t\\t\\t\\t\\t\\tSkidmore College <br>\\r\\n\\t\\t\\t\\t\\t\\t\\t\\t\\t\\t\\tSaratoga Springs, NY \\r\\n\\t\\t\\t\\t\\t\\t\\t\\t\\t</div>\\r\\n\\t\\t\\t\\t\\t\\t\\t\\t\\t<div class=\"col-sm-5 text-sm-right\">\\r\\n\\t\\t\\t\\t\\t\\t\\t\\t\\t\\t\\r\\n\\t\\t\\t\\t\\t\\t\\t\\t\\t\\tForeign Languages and Literatures \\r\\n\\t\\t\\t\\t\\t\\t\\t\\t\\t\\t\\t<br> Posted 06/21/21<br>\\r\\n\\t\\t\\t\\t\\t\\t\\t\\t\\t\\t\\r\\n\\t\\t\\t\\t\\t\\t\\t\\t\\t</div>\\r\\n\\t\\t\\t\\t\\t\\t\\t\\t\\t\\r\\n\\t\\t\\t\\t\\t\\t\\t\\t</div>\\r\\n\\t\\t\\t\\t\\t\\t\\t\\t\\r\\n\\t\\t\\t\\t\\t\\t\\t\\t\\r\\n\\r\\n\\t\\t\\t\\t\\t\\t\\t\\t<div class=\"row record\">\\r\\n\\t\\t\\t\\t\\t\\t\\t\\t\\t<div class=\"col-sm-7\">\\r\\n\\t\\t\\t\\t\\t\\t\\t\\t\\t\\t<a href=\"details.cfm?JobCode=177508228&Title=Faculty%20%2D%20Post%2DDoctoral%20Research%20Associate%20%2D%20IRC36317\">\\r\\n\\t\\t\\t\\t\\t\\t\\t\\t\\t\\t\\tFaculty - Post-Doctoral Research Associate - IRC36317</a>\\r\\n\\t\\t\\t\\t\\t\\t\\t\\t\\t\\t<br>\\r\\n\\t\\t\\t\\t\\t\\t\\t\\t\\t\\tTexas Woman\\'s University <br>\\r\\n\\t\\t\\t\\t\\t\\t\\t\\t\\t\\t\\tDenton, TX \\r\\n\\t\\t\\t\\t\\t\\t\\t\\t\\t</div>\\r\\n\\t\\t\\t\\t\\t\\t\\t\\t\\t<div class=\"col-sm-5 text-sm-right\">\\r\\n\\t\\t\\t\\t\\t\\t\\t\\t\\t\\t\\r\\n\\t\\t\\t\\t\\t\\t\\t\\t\\t\\tOther Liberal Arts Faculty \\r\\n\\t\\t\\t\\t\\t\\t\\t\\t\\t\\t\\t<br> Posted 06/09/21<br>\\r\\n\\t\\t\\t\\t\\t\\t\\t\\t\\t\\t\\r\\n\\t\\t\\t\\t\\t\\t\\t\\t\\t</div>\\r\\n\\t\\t\\t\\t\\t\\t\\t\\t\\t\\r\\n\\t\\t\\t\\t\\t\\t\\t\\t</div>\\r\\n\\t\\t\\t\\t\\t\\t\\t\\t\\r\\n\\t\\t\\t\\t\\t\\t\\t\\t\\r\\n\\t\\t\\t\\t</div>\\r\\n\\t\\t\\t\\t\\r\\n\\t\\t\\t\\t\\t<div class=\"row\">\\r\\n\\t\\t\\t\\t\\t\\t<div class=\"js-PageNav col-sm-7 overview-pagenav margin-sm-bottom\">\\r\\n\\t\\t\\t\\t\\t\\t\\t <a  href=\\'javascript:;\\' class=\\'disabled\\'>1</a>  <a js-start-row=\\'26\\' href=\\'advanced_action.cfm?Remote=1&Keyword=chinese%20or%20asian&PosType=1&InstType=1&JobCat=152,131,82,76,157,204,97&Region=0&SubRegions=&Metros=&OnlyTitle=0&SortBy=1&StartRow=26\\' class=\\'js-click-submit\\'>2</a> \\r\\n\\t\\t\\t\\t\\t\\t</div>\\r\\n\\t\\t\\t\\t\\t\\t<div class=\"col-sm-5 text-sm-right\">\\r\\n\\t\\t\\t\\t\\t\\t\\t\\r\\n\\t\\t<span class=\"text-nowrap\">\\r\\n\\t\\t\\tResults <strong>1</strong> - <strong>25</strong> of <strong>49</strong>\\r\\n\\t\\t\\t<span class=\"overview-nav\">\\r\\n\\t\\t\\t\\t\\r\\n\\t\\t\\t\\t\\t<img src=\\'/assets/hej/img/elements/disabled-left.gif\\' class=\"disabled\" width=\\'10\\' height=\\'14\\' />\\r\\n\\t\\t\\t\\t\\r\\n\\t\\t\\t\\t\\t<a class=\"js-click-submit\" js-start-row=\"26\" href=\"advanced_action.cfm?Remote=1&Keyword=chinese%20or%20asian&PosType=1&InstType=1&JobCat=152,131,82,76,157,204,97&Region=0&SubRegions=&Metros=&OnlyTitle=0&StartRow=26&SortBy=1\"> <img src=\\'/assets/hej/img/elements/active-right.gif\\' width=\\'10\\' height=\\'14\\' /> </a>\\r\\n\\t\\t\\t\\t\\r\\n\\t\\t\\t</span>\\r\\n\\t\\t</span>\\r\\n\\t\\r\\n\\t\\t\\t\\t\\t\\t</div>\\r\\n\\t\\t\\t\\t\\t</div>\\r\\n\\t\\t\\t\\t\\r\\n\\t\\t\\t</div>\\r\\n\\r\\n\\t\\t\\t\\r\\n\\r\\n\\t\\t</div>\\r\\n\\r\\n\\t\\t\\r\\n\\t\\t<div class=\"sidebar col-md-4 col-lg-3\">\\r\\n\\t\\t\\t\\r\\n\\t\\t\\t\\t\\r\\n\\t\\t\\t\\t<noscript>\\r\\n\\t\\t\\t\\t\\t<div class=\"widget\">\\r\\n\\t\\t\\t\\t\\t\\t<h3>Search Criteria</h3>\\r\\n\\t\\t\\t\\t\\t\\t<div class=\"alert alert-danger\">\\r\\n\\t\\t\\t\\t\\t\\t\\tJavascript is required for utilizing the search criteria/filter features. Please enable Javascript\\r\\n\\t\\t\\t\\t\\t\\t\\tor use the <a href=\"/search/advanced.cfm\">Advanced Search</a> to further filter your search results.\\r\\n\\t\\t\\t\\t\\t\\t</div>\\r\\n\\t\\t\\t\\t\\t</div>\\r\\n\\t\\t\\t\\t</noscript>\\r\\n\\r\\n\\t\\t\\t\\t\\r\\n\\t\\t\\t\\t\\t<div id=\"js-currentwidget\" class=\"widget widget-filters no-js-hide\">\\r\\n\\t\\t\\t\\t\\t\\t<h3>Search Criteria</h3>\\r\\n\\t\\t\\t\\t\\t\\t<div class=\"widget-mid-bar\">\\r\\n\\t\\t\\t\\t\\t\\t\\t<div id=\"js-BaseFilters\">\\r\\n\\r\\n\\t\\t\\t\\t\\t\\t\\t\\t\\r\\n\\t\\t\\t\\t\\t\\t\\t\\t\\r\\n\\t\\t\\t\\t\\t\\t\\t\\t\\t\\t\\t<i class=\"fa fa-check\"></i>&nbsp; Media and Communication S... <br>\\r\\n\\t\\t\\t\\t\\t\\t\\t\\t\\t\\t\\r\\n\\t\\t\\t\\t\\t\\t\\t\\t\\t\\t\\t<i class=\"fa fa-check\"></i>&nbsp; Radio, Television, and Film <br>\\r\\n\\t\\t\\t\\t\\t\\t\\t\\t\\t\\t\\r\\n\\t\\t\\t\\t\\t\\t\\t\\t\\t\\t\\t<i class=\"fa fa-check\"></i>&nbsp; English and Literature <br>\\r\\n\\t\\t\\t\\t\\t\\t\\t\\t\\t\\t\\r\\n\\t\\t\\t\\t\\t\\t\\t\\t\\t\\t\\t<i class=\"fa fa-check\"></i>&nbsp; Ethnic and Multicultural ... <br>\\r\\n\\t\\t\\t\\t\\t\\t\\t\\t\\t\\t\\r\\n\\t\\t\\t\\t\\t\\t\\t\\t\\t\\t\\t<i class=\"fa fa-check\"></i>&nbsp; Foreign Languages and Lit... <br>\\r\\n\\t\\t\\t\\t\\t\\t\\t\\t\\t\\t\\r\\n\\t\\t\\t\\t\\t\\t\\t\\t\\t\\t\\t<i class=\"fa fa-check\"></i>&nbsp; Humanities <br>\\r\\n\\t\\t\\t\\t\\t\\t\\t\\t\\t\\t\\r\\n\\t\\t\\t\\t\\t\\t\\t\\t\\t\\t\\t<i class=\"fa fa-check\"></i>&nbsp; Other Liberal Arts Faculty <br>\\r\\n\\t\\t\\t\\t\\t\\t\\t\\t\\t\\t\\r\\n\\t\\t\\t\\t\\t\\t\\t\\t\\t\\t\\t\\t<i class=\"fa fa-check\"></i>&nbsp; Four-Year/Advanced Degree... <br>\\r\\n\\t\\t\\t\\t\\t\\t\\t\\t\\t\\t\\t\\r\\n\\t\\t\\t\\t\\t\\t\\t\\t\\t\\t\\t\\t<i class=\"fa fa-check\"></i>&nbsp; Full-Time <br>\\r\\n\\t\\t\\t\\t\\t\\t\\t\\t\\t\\t\\t\\r\\n\\t\\t\\t\\t\\t\\t\\t\\t\\t\\t\\t\\t\\t<i class=\"fa fa-check\"></i>&nbsp; Location Bound <br>\\r\\n\\t\\t\\t\\t\\t\\t\\t\\t\\t\\t\\t\\t\\r\\n\\t\\t\\t\\t\\t\\t\\t\\t\\t<i class=\"fa fa-check\"></i>&nbsp;  Keyword <br>\\r\\n\\t\\t\\t\\t\\t\\t\\t\\t\\r\\n\\t\\t\\t\\t\\t\\t\\t\\t\\t\\r\\n\\t\\t\\t\\t\\t\\t\\t</div>\\r\\n\\t\\t\\t\\t\\t\\t\\t<div id=\"js-CurrentFilters\">\\r\\n\\t\\t\\t\\t\\t\\t\\t\\t\\r\\n\\t\\t\\t\\t\\t\\t\\t</div>\\r\\n\\t\\t\\t\\t\\t\\t</div>\\r\\n\\t\\t\\t\\t\\t\\t\\r\\n\\t\\t\\t\\t\\t</div>\\r\\n\\t\\t\\t\\t\\r\\n\\t\\t\\t\\t\\t<div id=\"js-filterwidget\" class=\"widget widget-filters no-js-hide\">\\r\\n\\t\\t\\t\\t\\t\\t<h3>Refine Results</h3>\\r\\n\\t\\t\\t\\t\\t\\t<div id=\"js-FilterForm\">\\r\\n\\t\\t\\t\\t\\t\\t\\t\\r\\n\\t\\t\\t\\t\\t\\t\\t\\t\\t<div class=\"expand-group filters\">\\r\\n\\t\\t\\t\\t\\t\\t\\t\\t\\t\\t<h5 class=\"expand-header \">State <i class=\"fa fa-chevron-down pull-right\"></i> </h5>\\r\\n\\t\\t\\t\\t\\t\\t\\t\\t\\t\\t<div class=\"expand-content collapse\">\\r\\n\\t\\t\\t\\t\\t\\t\\t\\t\\t\\t\\t\\r\\n\\t\\t\\t\\t\\t\\t\\t\\t\\t\\t\\t\\t\\t<div class=\"checkbox\">\\r\\n\\t\\t\\t\\t\\t\\t\\t\\t\\t\\t\\t\\t\\t\\t<label> <input type=\"checkbox\" class=\"js-change-submit\" name=\"filterstate\" value=\"AL\" js-desc=\"Alabama\" > Alabama  <strong>(2)</strong></label>\\r\\n\\t\\t\\t\\t\\t\\t\\t\\t\\t\\t\\t\\t\\t</div>\\r\\n\\t\\t\\t\\t\\t\\t\\t\\t\\t\\t\\t\\t\\r\\n\\t\\t\\t\\t\\t\\t\\t\\t\\t\\t\\t\\t\\t<div class=\"checkbox\">\\r\\n\\t\\t\\t\\t\\t\\t\\t\\t\\t\\t\\t\\t\\t\\t<label> <input type=\"checkbox\" class=\"js-change-submit\" name=\"filterstate\" value=\"CA\" js-desc=\"California\" > California  <strong>(9)</strong></label>\\r\\n\\t\\t\\t\\t\\t\\t\\t\\t\\t\\t\\t\\t\\t</div>\\r\\n\\t\\t\\t\\t\\t\\t\\t\\t\\t\\t\\t\\t\\r\\n\\t\\t\\t\\t\\t\\t\\t\\t\\t\\t\\t\\t\\t<div class=\"checkbox\">\\r\\n\\t\\t\\t\\t\\t\\t\\t\\t\\t\\t\\t\\t\\t\\t<label> <input type=\"checkbox\" class=\"js-change-submit\" name=\"filterstate\" value=\"CO\" js-desc=\"Colorado\" > Colorado  <strong>(2)</strong></label>\\r\\n\\t\\t\\t\\t\\t\\t\\t\\t\\t\\t\\t\\t\\t</div>\\r\\n\\t\\t\\t\\t\\t\\t\\t\\t\\t\\t\\t\\t\\r\\n\\t\\t\\t\\t\\t\\t\\t\\t\\t\\t\\t\\t\\t<div class=\"checkbox\">\\r\\n\\t\\t\\t\\t\\t\\t\\t\\t\\t\\t\\t\\t\\t\\t<label> <input type=\"checkbox\" class=\"js-change-submit\" name=\"filterstate\" value=\"CT\" js-desc=\"Connecticut\" > Connecticut  <strong>(2)</strong></label>\\r\\n\\t\\t\\t\\t\\t\\t\\t\\t\\t\\t\\t\\t\\t</div>\\r\\n\\t\\t\\t\\t\\t\\t\\t\\t\\t\\t\\t\\t\\r\\n\\t\\t\\t\\t\\t\\t\\t\\t\\t\\t\\t\\t\\t<div class=\"checkbox\">\\r\\n\\t\\t\\t\\t\\t\\t\\t\\t\\t\\t\\t\\t\\t\\t<label> <input type=\"checkbox\" class=\"js-change-submit\" name=\"filterstate\" value=\"GA\" js-desc=\"Georgia\" > Georgia  <strong>(2)</strong></label>\\r\\n\\t\\t\\t\\t\\t\\t\\t\\t\\t\\t\\t\\t\\t</div>\\r\\n\\t\\t\\t\\t\\t\\t\\t\\t\\t\\t\\t\\t\\r\\n\\t\\t\\t\\t\\t\\t\\t\\t\\t\\t\\t\\t\\t<div class=\"checkbox\">\\r\\n\\t\\t\\t\\t\\t\\t\\t\\t\\t\\t\\t\\t\\t\\t<label> <input type=\"checkbox\" class=\"js-change-submit\" name=\"filterstate\" value=\"ID\" js-desc=\"Idaho\" > Idaho  <strong>(1)</strong></label>\\r\\n\\t\\t\\t\\t\\t\\t\\t\\t\\t\\t\\t\\t\\t</div>\\r\\n\\t\\t\\t\\t\\t\\t\\t\\t\\t\\t\\t\\t\\r\\n\\t\\t\\t\\t\\t\\t\\t\\t\\t\\t\\t\\t\\t<div class=\"checkbox\">\\r\\n\\t\\t\\t\\t\\t\\t\\t\\t\\t\\t\\t\\t\\t\\t<label> <input type=\"checkbox\" class=\"js-change-submit\" name=\"filterstate\" value=\"IL\" js-desc=\"Illinois\" > Illinois  <strong>(2)</strong></label>\\r\\n\\t\\t\\t\\t\\t\\t\\t\\t\\t\\t\\t\\t\\t</div>\\r\\n\\t\\t\\t\\t\\t\\t\\t\\t\\t\\t\\t\\t\\r\\n\\t\\t\\t\\t\\t\\t\\t\\t\\t\\t\\t\\t\\t<div class=\"checkbox\">\\r\\n\\t\\t\\t\\t\\t\\t\\t\\t\\t\\t\\t\\t\\t\\t<label> <input type=\"checkbox\" class=\"js-change-submit\" name=\"filterstate\" value=\"IN\" js-desc=\"Indiana\" > Indiana  <strong>(2)</strong></label>\\r\\n\\t\\t\\t\\t\\t\\t\\t\\t\\t\\t\\t\\t\\t</div>\\r\\n\\t\\t\\t\\t\\t\\t\\t\\t\\t\\t\\t\\t\\r\\n\\t\\t\\t\\t\\t\\t\\t\\t\\t\\t\\t\\t\\t<div class=\"checkbox\">\\r\\n\\t\\t\\t\\t\\t\\t\\t\\t\\t\\t\\t\\t\\t\\t<label> <input type=\"checkbox\" class=\"js-change-submit\" name=\"filterstate\" value=\"IA\" js-desc=\"Iowa\" > Iowa  <strong>(2)</strong></label>\\r\\n\\t\\t\\t\\t\\t\\t\\t\\t\\t\\t\\t\\t\\t</div>\\r\\n\\t\\t\\t\\t\\t\\t\\t\\t\\t\\t\\t\\t\\r\\n\\t\\t\\t\\t\\t\\t\\t\\t\\t\\t\\t\\t\\t<div class=\"checkbox\">\\r\\n\\t\\t\\t\\t\\t\\t\\t\\t\\t\\t\\t\\t\\t\\t<label> <input type=\"checkbox\" class=\"js-change-submit\" name=\"filterstate\" value=\"MD\" js-desc=\"Maryland\" > Maryland  <strong>(1)</strong></label>\\r\\n\\t\\t\\t\\t\\t\\t\\t\\t\\t\\t\\t\\t\\t</div>\\r\\n\\t\\t\\t\\t\\t\\t\\t\\t\\t\\t\\t\\t\\r\\n\\t\\t\\t\\t\\t\\t\\t\\t\\t\\t\\t\\t\\t<div class=\"checkbox\">\\r\\n\\t\\t\\t\\t\\t\\t\\t\\t\\t\\t\\t\\t\\t\\t<label> <input type=\"checkbox\" class=\"js-change-submit\" name=\"filterstate\" value=\"MA\" js-desc=\"Massachusetts\" > Massachusetts  <strong>(5)</strong></label>\\r\\n\\t\\t\\t\\t\\t\\t\\t\\t\\t\\t\\t\\t\\t</div>\\r\\n\\t\\t\\t\\t\\t\\t\\t\\t\\t\\t\\t\\t\\r\\n\\t\\t\\t\\t\\t\\t\\t\\t\\t\\t\\t\\t\\t<div class=\"checkbox\">\\r\\n\\t\\t\\t\\t\\t\\t\\t\\t\\t\\t\\t\\t\\t\\t<label> <input type=\"checkbox\" class=\"js-change-submit\" name=\"filterstate\" value=\"MI\" js-desc=\"Michigan\" > Michigan  <strong>(2)</strong></label>\\r\\n\\t\\t\\t\\t\\t\\t\\t\\t\\t\\t\\t\\t\\t</div>\\r\\n\\t\\t\\t\\t\\t\\t\\t\\t\\t\\t\\t\\t\\r\\n\\t\\t\\t\\t\\t\\t\\t\\t\\t\\t\\t\\t\\t<div class=\"checkbox\">\\r\\n\\t\\t\\t\\t\\t\\t\\t\\t\\t\\t\\t\\t\\t\\t<label> <input type=\"checkbox\" class=\"js-change-submit\" name=\"filterstate\" value=\"NV\" js-desc=\"Nevada\" > Nevada  <strong>(1)</strong></label>\\r\\n\\t\\t\\t\\t\\t\\t\\t\\t\\t\\t\\t\\t\\t</div>\\r\\n\\t\\t\\t\\t\\t\\t\\t\\t\\t\\t\\t\\t\\r\\n\\t\\t\\t\\t\\t\\t\\t\\t\\t\\t\\t\\t\\t<div class=\"checkbox\">\\r\\n\\t\\t\\t\\t\\t\\t\\t\\t\\t\\t\\t\\t\\t\\t<label> <input type=\"checkbox\" class=\"js-change-submit\" name=\"filterstate\" value=\"NY\" js-desc=\"New York\" > New York  <strong>(1)</strong></label>\\r\\n\\t\\t\\t\\t\\t\\t\\t\\t\\t\\t\\t\\t\\t</div>\\r\\n\\t\\t\\t\\t\\t\\t\\t\\t\\t\\t\\t\\t\\r\\n\\t\\t\\t\\t\\t\\t\\t\\t\\t\\t\\t\\t\\t<div class=\"checkbox\">\\r\\n\\t\\t\\t\\t\\t\\t\\t\\t\\t\\t\\t\\t\\t\\t<label> <input type=\"checkbox\" class=\"js-change-submit\" name=\"filterstate\" value=\"NN\" js-desc=\"Non US or Canada\" > Non US or Canada  <strong>(7)</strong></label>\\r\\n\\t\\t\\t\\t\\t\\t\\t\\t\\t\\t\\t\\t\\t</div>\\r\\n\\t\\t\\t\\t\\t\\t\\t\\t\\t\\t\\t\\t\\r\\n\\t\\t\\t\\t\\t\\t\\t\\t\\t\\t\\t\\t\\t<div class=\"checkbox\">\\r\\n\\t\\t\\t\\t\\t\\t\\t\\t\\t\\t\\t\\t\\t\\t<label> <input type=\"checkbox\" class=\"js-change-submit\" name=\"filterstate\" value=\"OH\" js-desc=\"Ohio\" > Ohio  <strong>(1)</strong></label>\\r\\n\\t\\t\\t\\t\\t\\t\\t\\t\\t\\t\\t\\t\\t</div>\\r\\n\\t\\t\\t\\t\\t\\t\\t\\t\\t\\t\\t\\t\\r\\n\\t\\t\\t\\t\\t\\t\\t\\t\\t\\t\\t\\t\\t<div class=\"checkbox\">\\r\\n\\t\\t\\t\\t\\t\\t\\t\\t\\t\\t\\t\\t\\t\\t<label> <input type=\"checkbox\" class=\"js-change-submit\" name=\"filterstate\" value=\"PA\" js-desc=\"Pennsylvania\" > Pennsylvania  <strong>(1)</strong></label>\\r\\n\\t\\t\\t\\t\\t\\t\\t\\t\\t\\t\\t\\t\\t</div>\\r\\n\\t\\t\\t\\t\\t\\t\\t\\t\\t\\t\\t\\t\\r\\n\\t\\t\\t\\t\\t\\t\\t\\t\\t\\t\\t\\t\\t<div class=\"checkbox\">\\r\\n\\t\\t\\t\\t\\t\\t\\t\\t\\t\\t\\t\\t\\t\\t<label> <input type=\"checkbox\" class=\"js-change-submit\" name=\"filterstate\" value=\"TX\" js-desc=\"Texas\" > Texas  <strong>(3)</strong></label>\\r\\n\\t\\t\\t\\t\\t\\t\\t\\t\\t\\t\\t\\t\\t</div>\\r\\n\\t\\t\\t\\t\\t\\t\\t\\t\\t\\t\\t\\t\\r\\n\\t\\t\\t\\t\\t\\t\\t\\t\\t\\t\\t\\t\\t<div class=\"checkbox\">\\r\\n\\t\\t\\t\\t\\t\\t\\t\\t\\t\\t\\t\\t\\t\\t<label> <input type=\"checkbox\" class=\"js-change-submit\" name=\"filterstate\" value=\"VA\" js-desc=\"Virginia\" > Virginia  <strong>(3)</strong></label>\\r\\n\\t\\t\\t\\t\\t\\t\\t\\t\\t\\t\\t\\t\\t</div>\\r\\n\\t\\t\\t\\t\\t\\t\\t\\t\\t\\t\\t\\t\\r\\n\\r\\n\\t\\t\\t\\t\\t\\t\\t\\t\\t\\t</div>\\r\\n\\t\\t\\t\\t\\t\\t\\t\\t\\t</div>\\r\\n\\t\\t\\t\\t\\t\\t\\t\\t\\r\\n\\t\\t\\t\\t\\t\\t\\t\\t\\t<div class=\"expand-group filters\">\\r\\n\\t\\t\\t\\t\\t\\t\\t\\t\\t\\t<h5 class=\"expand-header \">Country <i class=\"fa fa-chevron-down pull-right\"></i> </h5>\\r\\n\\t\\t\\t\\t\\t\\t\\t\\t\\t\\t<div class=\"expand-content collapse\">\\r\\n\\t\\t\\t\\t\\t\\t\\t\\t\\t\\t\\t\\r\\n\\t\\t\\t\\t\\t\\t\\t\\t\\t\\t\\t\\t\\t<div class=\"checkbox\">\\r\\n\\t\\t\\t\\t\\t\\t\\t\\t\\t\\t\\t\\t\\t\\t<label> <input type=\"checkbox\" class=\"js-change-submit\" name=\"filtercountry\" value=\"44\" js-desc=\"China\" > China  <strong>(3)</strong></label>\\r\\n\\t\\t\\t\\t\\t\\t\\t\\t\\t\\t\\t\\t\\t</div>\\r\\n\\t\\t\\t\\t\\t\\t\\t\\t\\t\\t\\t\\t\\r\\n\\t\\t\\t\\t\\t\\t\\t\\t\\t\\t\\t\\t\\t<div class=\"checkbox\">\\r\\n\\t\\t\\t\\t\\t\\t\\t\\t\\t\\t\\t\\t\\t\\t<label> <input type=\"checkbox\" class=\"js-change-submit\" name=\"filtercountry\" value=\"95\" js-desc=\"Hong Kong\" > Hong Kong  <strong>(3)</strong></label>\\r\\n\\t\\t\\t\\t\\t\\t\\t\\t\\t\\t\\t\\t\\t</div>\\r\\n\\t\\t\\t\\t\\t\\t\\t\\t\\t\\t\\t\\t\\r\\n\\t\\t\\t\\t\\t\\t\\t\\t\\t\\t\\t\\t\\t<div class=\"checkbox\">\\r\\n\\t\\t\\t\\t\\t\\t\\t\\t\\t\\t\\t\\t\\t\\t<label> <input type=\"checkbox\" class=\"js-change-submit\" name=\"filtercountry\" value=\"224\" js-desc=\"United Arab Emirates\" > United Arab Emirates  <strong>(1)</strong></label>\\r\\n\\t\\t\\t\\t\\t\\t\\t\\t\\t\\t\\t\\t\\t</div>\\r\\n\\t\\t\\t\\t\\t\\t\\t\\t\\t\\t\\t\\t\\r\\n\\t\\t\\t\\t\\t\\t\\t\\t\\t\\t\\t\\t\\t<div class=\"checkbox\">\\r\\n\\t\\t\\t\\t\\t\\t\\t\\t\\t\\t\\t\\t\\t\\t<label> <input type=\"checkbox\" class=\"js-change-submit\" name=\"filtercountry\" value=\"226\" js-desc=\"United States\" > United States  <strong>(42)</strong></label>\\r\\n\\t\\t\\t\\t\\t\\t\\t\\t\\t\\t\\t\\t\\t</div>\\r\\n\\t\\t\\t\\t\\t\\t\\t\\t\\t\\t\\t\\t\\r\\n\\t\\t\\t\\t\\t\\t\\t\\t\\t\\t</div>\\r\\n\\t\\t\\t\\t\\t\\t\\t\\t\\t</div>\\r\\n\\t\\t\\t\\t\\t\\t\\t\\t\\r\\n\\t\\t\\t\\t\\t\\t</div>\\r\\n\\t\\t\\t\\t\\t</div>\\r\\n\\t\\t\\t\\t\\r\\n\\t\\t\\t<div class=\"widget banner-ad-widget\">\\r\\n\\t\\t\\t\\t<div id=\\'div-gpt-ad-1430317764545-0\\' class=\"banner-ad\"></div>\\r\\n\\t\\t\\t\\t<small class=\\'js-ad-indicator\\'>Advertisement</small>\\r\\n\\t\\t\\t</div>\\r\\n\\t\\t\\n\\t<div class=\"widget\">\\n\\t\\t<h3>Create your free job search account</h3>\\n\\t\\t<ul>\\n\\t\\t\\t<li>Receive new jobs by email</li>\\n\\t\\t\\t<li>Post your resume/CV</li>\\n\\t\\t\\t<li>Track your applications</li>\\n\\t\\t</ul>\\n\\t\\t<p>\\n\\t\\t\\t<a href=\"/myHigherEdJobs/Login/createprofile.cfm\" class=\"btn btn-green btn-block\">Join Now</a>\\n\\t\\t</p>\\n\\t\\t<p>\\n\\t\\t\\tHave an account? <a href=\"/myHigherEdJobs/\">Sign in</a>\\n\\t\\t</p>\\n\\t</div>\\n\\r\\n\\t\\t</div>\\r\\n\\t</form>\\r\\n\\r\\n\\r\\n\\r\\n\\r\\n\\t\\t</div>\\r\\n\\t\\t\\r\\n\\r\\n\\t\\t<!-- BEGIN DIVIDER -->\\r\\n\\t\\t<div id=\"footer_divider\">\\r\\n\\t\\t</div>\\r\\n\\t\\t<!-- END DIVIDER -->\\r\\n\\r\\n\\t\\t<!-- BEGIN FOOTER -->\\r\\n\\t\\t\\r\\n\\t\\t\\t<footer>\\r\\n\\t\\t\\t\\t<div class=\"row\">\\r\\n\\t\\t\\t\\t\\t\\r\\n\\t\\t\\t\\t\\t<div class=\"col-md-9 col-lg-10\">\\r\\n\\t\\t\\t\\t\\t\\t<img class=\"logo\" src=\"/assets/hej/img/logos/HEJ_Logo_1c_reversed_64.png\" alt=\"HigherEdJobs\">\\r\\n\\t\\t\\t\\t\\t\\r\\n\\t\\t\\t\\t\\t\\t<div class=\"row footer-cols\">\\r\\n\\t\\t\\t\\t\\t\\t\\t<div class=\"col-sm-4 footer-section\">\\r\\n\\t\\t\\t\\t\\t\\t\\t\\t<h5>Job Seekers</h5>\\r\\n\\t\\t\\t\\t\\t\\t\\t\\t<ul>\\r\\n\\t\\t\\t\\t\\t\\t\\t\\t\\t<li><a href=\"/search/\">Search Jobs</a></li>\\r\\n\\t\\t\\t\\t\\t\\t\\t\\t\\t<li><a href=\"/myHigherEdJobs/\">Job Seeker Login</a></li>\\r\\n\\t\\t\\t\\t\\t\\t\\t\\t\\t<li><a href=\"/articles/\">Advice &amp; News</a></li>\\r\\n\\t\\t\\t\\t\\t\\t\\t\\t\\t<li><a href=\"/mailinglists/insider.cfm\">Newsletter Sign-Up</a></li>\\r\\n\\t\\t\\t\\t\\t\\t\\t\\t</ul>\\r\\n\\t\\t\\t\\t\\t\\t\\t</div>\\r\\n\\r\\n\\t\\t\\t\\t\\t\\t\\t<div class=\"col-sm-4 footer-section\">\\r\\n\\t\\t\\t\\t\\t\\t\\t\\t<h5>Employers</h5>\\r\\n\\t\\t\\t\\t\\t\\t\\t\\t<ul>\\r\\n\\t\\t\\t\\t\\t\\t\\t\\t\\t<li><a href=\"/products/singleposting.cfm\">Post A Job</a></li>\\r\\n\\t\\t\\t\\t\\t\\t\\t\\t\\t<li><a href=\"/products/\">All Recruitment Products</a></li>\\r\\n\\t\\t\\t\\t\\t\\t\\t\\t\\t<li><a href=\"/employers/\">Employer Login</a></li>\\r\\n\\t\\t\\t\\t\\t\\t\\t\\t\\t<li><a href=\"/popup/Testimonials.cfm?TestimonialType=1\">Testimonials</a></li>\\r\\n\\t\\t\\t\\t\\t\\t\\t\\t</ul>\\r\\n\\t\\t\\t\\t\\t\\t\\t</div>\\r\\n\\r\\n\\t\\t\\t\\t\\t\\t\\t<div class=\"col-sm-4 footer-section\">\\r\\n\\t\\t\\t\\t\\t\\t\\t\\t<h5>Company</h5>\\r\\n\\t\\t\\t\\t\\t\\t\\t\\t<ul>\\r\\n\\t\\t\\t\\t\\t\\t\\t\\t\\t<li><a href=\"/company/about.cfm\">About Us</a></li>\\r\\n\\t\\t\\t\\t\\t\\t\\t\\t\\t<li><a href=\"/company/contact.cfm\">Contact Us</a></li>\\r\\n\\t\\t\\t\\t\\t\\t\\t\\t\\t<li><a href=\"/advertising/\">Marketing Solutions</a></li>\\r\\n\\t\\t\\t\\t\\t\\t\\t\\t\\t<li><a href=\"/popup/myHEJDemographics.cfm\">Our Audience</a></li>\\r\\n\\t\\t\\t\\t\\t\\t\\t\\t</ul>\\r\\n\\t\\t\\t\\t\\t\\t\\t</div>\\r\\n\\t\\t\\t\\t\\t\\t</div>\\r\\n\\t\\t\\t\\t\\t\\r\\n\\t\\t\\t\\t\\t\\t<div class=\"footer-links\">\\r\\n\\t\\t\\t\\t\\t\\t\\t<a href=\"/company/privacypolicy.cfm\">Privacy Policy</a>\\r\\n\\t\\t\\t\\t\\t\\t\\t<span class=\"separator\">|</span>\\r\\n\\t\\t\\t\\t\\t\\t\\t<a href=\"/company/terms.cfm\">Terms of Use</a>\\r\\n\\r\\n\\t\\t\\t\\t\\t\\t\\t<span class=\"separator hidden-xs\">|</span>\\r\\n\\t\\t\\t\\t\\t\\t\\t<div class=\"visible-xs-block\"></div>\\r\\n\\r\\n\\t\\t\\t\\t\\t\\t\\t<a href=\"/company/privacypolicy.cfm?section=sell\">Do Not Sell My Personal Information</a>\\r\\n\\t\\t\\t\\t\\t\\t</div>\\r\\n\\t\\t\\t\\t\\t\\t\\r\\n\\t\\t\\t\\t\\t\\t<div class=\"copyright small\">\\r\\n\\t\\t\\t\\t\\t\\t\\t<a href=\"/company/copyright.cfm\">&copy; 2021 HigherEdJobs.</a>  \\r\\n\\t\\t\\t\\t\\t\\t\\t<a href=\"http://patft.uspto.gov/netacgi/nph-Parser?Sect1=PTO1&Sect2=HITOFF&d=PALL&p=1&u=%2Fnetahtml%2FPTO%2Fsrchnum.htm&r=1&f=G&l=50&s1=8,548,928.PN.&OS=PN/8,548,928&RS=PN/8,548,928\" target=\"_blank\">U.S. Patent 8,548,928</a>\\r\\n\\t\\t\\t\\t\\t\\t</div>\\r\\n\\t\\t\\t\\t\\t</div>\\r\\n\\r\\n\\t\\t\\t\\t\\t<div class=\"col-md-3 col-lg-2 text-md-right icons\">\\r\\n\\t\\t\\t\\t\\t\\t<a href=\"https://www.facebook.com/higheredjobs\">\\r\\n\\t\\t\\t\\t\\t\\t\\t<img src=\"/assets/hej/img/icons/facebook_hej.png\" alt=\"Facebook\" />\\r\\n\\t\\t\\t\\t\\t\\t</a>\\r\\n\\t\\t\\t\\t\\t\\t<a href=\"https://twitter.com/HigherEdJobs\">\\r\\n\\t\\t\\t\\t\\t\\t\\t<img src=\"/assets/hej/img/icons/twitter_hej.png\" alt=\"Twitter\" />\\r\\n\\t\\t\\t\\t\\t\\t</a>\\r\\n\\t\\t\\t\\t\\t\\t<a href=\"https://www.linkedin.com/company/higheredjobs/\">\\r\\n\\t\\t\\t\\t\\t\\t\\t<img src=\"/assets/hej/img/icons/linkedin_hej.png\" alt=\"LinkedIn\" />\\r\\n\\t\\t\\t\\t\\t\\t</a>\\r\\n\\t\\t\\t\\t\\t</div>\\r\\n\\t\\t\\t\\t</div>\\r\\n\\t\\t\\t</footer>\\r\\n\\t\\t\\t<!-- END FOOTER -->\\r\\n\\t\\t\\r\\n\\t</div>\\r\\n\\t\\r\\n\\r\\n\\t\\r\\n\\t\\r\\n\\t\\r\\n\\t<div id=\"footer-padding\"></div>\\r\\n\\t<div id=\"cookie-banner\">\\r\\n\\t\\t<div class=\"container\">\\r\\n\\t\\t\\t<div class=\"row\">\\r\\n\\t\\t\\t\\t<div class=\"col-sm-10\">\\r\\n\\t\\t\\t\\t\\tThis site uses cookies to make finding jobs, helping your career, and hiring employees as easy as possible. \\r\\n\\t\\t\\t\\t\\tBy using HigherEdJobs, you accept our <a href=\"/company/privacypolicy.cfm\">privacy policy</a> and how we use cookies.\\r\\n\\t\\t\\t\\t</div>\\r\\n\\t\\t\\t\\t<div class=\"col-sm-2 centered\">\\r\\n\\t\\t\\t\\t\\t<a href=\"javascript:;\" class=\"btn btn-green js-banner-btn\">Close</a>\\r\\n\\t\\t\\t\\t</div>\\r\\n\\t\\t\\t</div>\\r\\n\\t\\t</div>\\r\\n\\t</div>\\r\\n\\r\\n\\r\\n\\r\\n\\t<!-- BEGIN CORE PLUGINS -->\\r\\n\\t<script src=\"/assets/plugins/jquery-3.5.0.min.js\" type=\"text/javascript\"></script>\\r\\n\\t<script src=\"/assets/plugins/jquery-ui/jquery-ui.min.js\"></script> \\r\\n\\t<script src=\"/assets/plugins/bootstrap/js/bootstrap-3.3.7.min.js\" type=\"text/javascript\"></script>\\r\\n\\t<!-- END CORE PLUGINS -->\\r\\n\\r\\n\\t<!-- BEGIN HEJ SCRIPTS -->\\r\\n\\t<script src=\"/assets/hej/scripts/menuNav.js\" type=\"text/javascript\"></script>\\r\\n\\t<script src=\"/assets/hej/scripts/components.js\" type=\"text/javascript\"></script>\\r\\n\\t<script src=\"/assets/hej/scripts/appfunctions.js\" type=\"text/javascript\"></script>\\r\\n\\t<!-- END HEJ SCRIPTS -->\\r\\n\\r\\n\\t<script>\\r\\n\\t\\tjQuery(document).ready(function() {\\r\\n\\t\\t\\tMenuNav.init();\\r\\n\\t\\t\\tSiteComponents.init();\\r\\n\\t\\t\\tif ( $(\\'[data-toggle=\"popover\"]\\').length ) {\\r\\n\\t\\t\\t\\t$(\\'[data-toggle=\"popover\"]\\').popover();\\r\\n\\t\\t\\t}\\r\\n\\t\\t\\tif ( $(\\'[data-toggle=\"tooltip\"]\\').length ) {\\r\\n\\t\\t\\t\\t$(\\'[data-toggle=\"tooltip\"]\\').tooltip();\\r\\n\\t\\t\\t}\\r\\n\\t\\t});\\r\\n\\t</script>\\r\\n\\t\\r\\n\\t\\r\\n\\t\\r\\n\\t\\t<!-- Global Site Tag (gtag.js) - Google Analytics -->\\r\\n\\t\\t<script async src=\"https://www.googletagmanager.com/gtag/js?id=UA-12825325-1\"></script>\\r\\n\\t\\t<script>\\r\\n\\t\\t\\twindow.dataLayer = window.dataLayer || [];\\r\\n\\t\\t\\tfunction gtag(){ dataLayer.push(arguments); }\\r\\n\\t\\t\\tgtag(\\'js\\', new Date());\\r\\n\\r\\n\\t\\t\\tgtag(\\'config\\', \\'UA-12825325-1\\');\\r\\n\\t\\t</script>\\r\\n\\t\\t\\r\\n\\t\\t\\r\\n\\t\\t<script async src=\\'https://www.google-analytics.com/analytics.js\\'></script>\\r\\n\\r\\n\\t\\t\\r\\n\\t\\t<script type=\"text/javascript\">\\r\\n\\t\\t\\t_linkedin_partner_id = \"983770\";\\r\\n\\t\\t\\twindow._linkedin_data_partner_ids = window._linkedin_data_partner_ids || [];\\r\\n\\t\\t\\twindow._linkedin_data_partner_ids.push(_linkedin_partner_id);\\r\\n\\t\\t</script>\\r\\n\\t\\t<script type=\"text/javascript\">\\r\\n\\t\\t\\t(function(){var s = document.getElementsByTagName(\"script\")[0];\\r\\n\\t\\t\\tvar b = document.createElement(\"script\");\\r\\n\\t\\t\\tb.type = \"text/javascript\";b.async = true;\\r\\n\\t\\t\\tb.src = \"https://snap.licdn.com/li.lms-analytics/insight.min.js\";\\r\\n\\t\\t\\ts.parentNode.insertBefore(b, s);})();\\r\\n\\t\\t</script>\\r\\n\\t\\t<noscript>\\r\\n\\t\\t\\t<img height=\"1\" width=\"1\" style=\"display:none;\" alt=\"\" src=\"https://dc.ads.linkedin.com/collect/?pid=983770&fmt=gif\" />\\r\\n\\t\\t</noscript>\\r\\n\\t\\r\\n\\t\\t\\t\\r\\n\\t\\t\\t<script type=\\'text/javascript\\'>\\r\\n\\t\\t\\t\\tvar googletag = googletag || {};\\r\\n\\t\\t\\t\\tgoogletag.cmd = googletag.cmd || [];\\r\\n\\t\\t\\t\\t(function() {\\r\\n\\t\\t\\t\\t\\tvar gads = document.createElement(\\'script\\');\\r\\n\\t\\t\\t\\t\\tgads.async = true;\\r\\n\\t\\t\\t\\t\\tgads.type = \\'text/javascript\\';\\r\\n\\t\\t\\t\\t\\tvar useSSL = \\'https:\\' == document.location.protocol;\\r\\n\\t\\t\\t\\t\\tgads.src = (useSSL ? \\'https:\\' : \\'http:\\') + \\'//www.googletagservices.com/tag/js/gpt.js\\';\\r\\n\\t\\t\\t\\t\\tvar node = document.getElementsByTagName(\\'script\\')[0];\\r\\n\\t\\t\\t\\t\\tnode.parentNode.insertBefore(gads, node);\\r\\n\\t\\t\\t\\t})();\\r\\n\\t\\t\\t</script>\\r\\n\\t\\t\\t<script type=\\'text/javascript\\'>\\r\\n\\t\\t\\t\\tvar GADSlot;\\r\\n\\t\\t\\t\\tgoogletag.cmd.push(function() {\\r\\n\\t\\t\\t\\t\\t\\r\\n\\t\\t\\t\\t\\t\\tif ( $(\\'.content\\').height() - $(\\'.sidebar\\').height() > 600 ) {\\r\\n\\t\\t\\t\\t\\t\\t\\tgoogletag.defineSlot(\\'/4412152/HEJ_General_250\\', [[250, 250], [120, 600]], \\'div-gpt-ad-1430317764545-0\\').addService(googletag.pubads());\\r\\n\\t\\t\\t\\t\\t\\t}\\r\\n\\t\\t\\t\\t\\t\\telse {\\r\\n\\t\\t\\t\\t\\t\\t\\tgoogletag.defineSlot(\\'/4412152/HEJ_General_250\\', [250, 250], \\'div-gpt-ad-1430317764545-0\\').addService(googletag.pubads());\\r\\n\\t\\t\\t\\t\\t\\t}\\r\\n\\t\\t\\t\\t\\t\\r\\n\\r\\n\\t\\t\\t\\t\\tgoogletag.pubads().enableSingleRequest();\\r\\n\\t\\t\\t\\t\\tgoogletag.pubads().collapseEmptyDivs();\\r\\n\\t\\t\\t\\t\\tgoogletag.enableServices();\\r\\n\\t\\t\\t\\t\\tgoogletag.pubads().addEventListener(\\'slotRenderEnded\\', function(event) {\\r\\n\\t\\t\\t\\t\\t\\tif ( event.isEmpty ) {\\r\\n\\t\\t\\t\\t\\t\\t\\t\\r\\n\\t\\t\\t\\t\\t\\t\\t\\t$(\".banner-ad-widget\").hide();\\r\\n\\t\\t\\t\\t\\t\\t\\t\\r\\n\\t\\t\\t\\t\\t\\t}\\r\\n\\t\\t\\t\\t\\t});\\r\\n\\t\\t\\t\\t});\\r\\n\\r\\n\\t\\t\\t\\t\\r\\n\\t\\t\\t</script>\\r\\n\\t\\t\\t\\r\\n\\t\\t\\t<script>\\r\\n\\t\\t\\t\\tjQuery(document).ready(function() {\\r\\n\\t\\t\\t\\t\\tgoogletag.cmd.push( function() {\\r\\n\\t\\t\\t\\t\\t\\tgoogletag.display(\\'div-gpt-ad-1430317764545-0\\');\\r\\n\\t\\t\\t\\t\\t});\\r\\n\\t\\t\\t\\t});\\r\\n\\t\\t\\t</script>\\r\\n\\t\\t\\r\\n\\r\\n\\t<script src=\"/assets/hej/scripts/jobsoutput.js\" type=\"text/javascript\" ></script>\\r\\n\\t<script src=\"/assets/plugins/moment.min.js\" type=\"text/javascript\"></script>\\r\\n\\t<script src=\"/assets/hej/scripts/formfunctions.js\" type=\"text/javascript\" ></script>\\r\\n\\t<script>\\r\\n\\t\\tjQuery(document).ready(function() {\\r\\n\\t\\t\\tJobsOutput.init();\\r\\n\\t\\t\\tFormFunctions.init();\\r\\n\\t\\t});\\r\\n\\t</script>\\r\\n\\r\\n\\t\\r\\n\\t\\r\\n\\r\\n<script async type=\"text/javascript\" src=\"/_Incapsula_Resource?SWJIYLWA=719d34d31c8e3a6e6fffd425f7e032f3&ns=1&cb=1310642709\"></script>\\n</body>\\r\\n<!-- END BODY -->\\r\\n</html>\\r\\n'"
            ]
          },
          "metadata": {
            "tags": []
          },
          "execution_count": 4
        }
      ]
    },
    {
      "cell_type": "code",
      "metadata": {
        "id": "muZE5MoelOTh"
      },
      "source": [
        ""
      ],
      "execution_count": null,
      "outputs": []
    },
    {
      "cell_type": "markdown",
      "metadata": {
        "id": "zBqQd2Rlaag5"
      },
      "source": [
        "### 4. Other Sources\n",
        "\n",
        "* Academic Jobs Wiki (no longer actively maintained)\n",
        "* HERC (not correctly configured server)\n",
        "* Indeed (for both academic & nonacademic jobs)\n"
      ]
    }
  ]
}